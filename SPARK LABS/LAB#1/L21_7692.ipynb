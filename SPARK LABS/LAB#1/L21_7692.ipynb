{
  "nbformat": 4,
  "nbformat_minor": 0,
  "metadata": {
    "colab": {
      "provenance": [],
      "include_colab_link": true
    },
    "kernelspec": {
      "name": "python3",
      "display_name": "Python 3"
    },
    "language_info": {
      "name": "python"
    }
  },
  "cells": [
    {
      "cell_type": "markdown",
      "metadata": {
        "id": "view-in-github",
        "colab_type": "text"
      },
      "source": [
        "<a href=\"https://colab.research.google.com/github/AJSTYLE-lab/Fundamental-of-BIg-Data-Analysis/blob/main/SPARK%20LABS/LAB%231/L21_7692.ipynb\" target=\"_parent\"><img src=\"https://colab.research.google.com/assets/colab-badge.svg\" alt=\"Open In Colab\"/></a>"
      ]
    },
    {
      "cell_type": "code",
      "execution_count": null,
      "metadata": {
        "colab": {
          "base_uri": "https://localhost:8080/"
        },
        "id": "melzkOx3elj0",
        "outputId": "9e392f86-b48f-4ac4-b2cf-6ee10640e959"
      },
      "outputs": [
        {
          "output_type": "stream",
          "name": "stdout",
          "text": [
            "Looking in indexes: https://pypi.org/simple, https://us-python.pkg.dev/colab-wheels/public/simple/\n",
            "Requirement already satisfied: pyspark in /usr/local/lib/python3.9/dist-packages (3.4.0)\n",
            "Requirement already satisfied: py4j==0.10.9.7 in /usr/local/lib/python3.9/dist-packages (from pyspark) (0.10.9.7)\n"
          ]
        }
      ],
      "source": [
        "!pip install pyspark\n",
        "import random \n",
        "from pyspark.sql.functions import length,udf,desc,col\n",
        "from pyspark.ml.feature import StopWordsRemover\n",
        "from pyspark.sql.types import ArrayType, StringType\n",
        "from pyspark.sql import SparkSession"
      ]
    },
    {
      "cell_type": "markdown",
      "source": [
        "#QUESTION_ONE:"
      ],
      "metadata": {
        "id": "3y33DM1Ceoi-"
      }
    },
    {
      "cell_type": "code",
      "source": [
        "arr=[1,2,3,4,5,6,7,8,9,10]\n",
        "list(map(lambda x:x**2,arr))"
      ],
      "metadata": {
        "colab": {
          "base_uri": "https://localhost:8080/"
        },
        "id": "V31i6aM-enrz",
        "outputId": "5b92a6ab-cb50-4ed1-a7d3-3c5bd4c6d919"
      },
      "execution_count": null,
      "outputs": [
        {
          "output_type": "execute_result",
          "data": {
            "text/plain": [
              "[1, 4, 9, 16, 25, 36, 49, 64, 81, 100]"
            ]
          },
          "metadata": {},
          "execution_count": 193
        }
      ]
    },
    {
      "cell_type": "markdown",
      "source": [
        "#QUESTION_TWO:"
      ],
      "metadata": {
        "id": "XIRDfZ6vtsZS"
      }
    },
    {
      "cell_type": "code",
      "source": [
        "LIST=[]\n",
        "for i in range(0,20):\n",
        "  LIST.append(random.randint(3,9))\n",
        "print(\"RANDOM LIST GENERATED=\",LIST)\n",
        "list(filter(lambda x:(x%5==0),LIST))"
      ],
      "metadata": {
        "colab": {
          "base_uri": "https://localhost:8080/"
        },
        "id": "GoRTphLKe5Lh",
        "outputId": "9168d6fb-54d1-425b-8bdf-cc77883ed76a"
      },
      "execution_count": null,
      "outputs": [
        {
          "output_type": "stream",
          "name": "stdout",
          "text": [
            "RANDOM LIST GENERATED= [4, 5, 9, 6, 9, 6, 4, 7, 6, 9, 9, 3, 3, 3, 5, 3, 3, 6, 7, 8]\n"
          ]
        },
        {
          "output_type": "execute_result",
          "data": {
            "text/plain": [
              "[5, 5]"
            ]
          },
          "metadata": {},
          "execution_count": 194
        }
      ]
    },
    {
      "cell_type": "markdown",
      "source": [
        "#QUESTION_THREE:"
      ],
      "metadata": {
        "id": "fHbU478at1Q1"
      }
    },
    {
      "cell_type": "code",
      "source": [
        "spark=SparkSession.builder\\\n",
        ".master(\"local[1]\")\\\n",
        ".appName(\"MY_FIRST_PYSPARK_CODE\")\\\n",
        ".getOrCreate()\n",
        "spark"
      ],
      "metadata": {
        "colab": {
          "base_uri": "https://localhost:8080/",
          "height": 219
        },
        "id": "wBVeJnMpugeZ",
        "outputId": "557d653d-089b-4f52-a06d-69b313eccb9c"
      },
      "execution_count": null,
      "outputs": [
        {
          "output_type": "execute_result",
          "data": {
            "text/plain": [
              "<pyspark.sql.session.SparkSession at 0x7f7b7c0c1880>"
            ],
            "text/html": [
              "\n",
              "            <div>\n",
              "                <p><b>SparkSession - in-memory</b></p>\n",
              "                \n",
              "        <div>\n",
              "            <p><b>SparkContext</b></p>\n",
              "\n",
              "            <p><a href=\"http://3f4bce6636f9:4040\">Spark UI</a></p>\n",
              "\n",
              "            <dl>\n",
              "              <dt>Version</dt>\n",
              "                <dd><code>v3.4.0</code></dd>\n",
              "              <dt>Master</dt>\n",
              "                <dd><code>local[1]</code></dd>\n",
              "              <dt>AppName</dt>\n",
              "                <dd><code>MY_FIRST_PYSPARK_CODE</code></dd>\n",
              "            </dl>\n",
              "        </div>\n",
              "        \n",
              "            </div>\n",
              "        "
            ]
          },
          "metadata": {},
          "execution_count": 195
        }
      ]
    },
    {
      "cell_type": "markdown",
      "source": [
        "#LOAD THE FILE:"
      ],
      "metadata": {
        "id": "VKfJ4lINwsX4"
      }
    },
    {
      "cell_type": "code",
      "source": [
        "FILE=spark.read.csv(\"DATA_TWO.txt\")"
      ],
      "metadata": {
        "id": "WCvAlxqrvKI2"
      },
      "execution_count": null,
      "outputs": []
    },
    {
      "cell_type": "markdown",
      "source": [
        "#COMMENTS OF EACH USER:"
      ],
      "metadata": {
        "id": "M5W5VQsQwwX1"
      }
    },
    {
      "cell_type": "code",
      "source": [
        "FILE.show()"
      ],
      "metadata": {
        "colab": {
          "base_uri": "https://localhost:8080/"
        },
        "id": "X7DYWTWDw2Qq",
        "outputId": "429116e2-74bf-499d-dfcc-3040ba27e1f2"
      },
      "execution_count": null,
      "outputs": [
        {
          "output_type": "stream",
          "name": "stdout",
          "text": [
            "+--------+--------------------+\n",
            "|     _c0|                 _c1|\n",
            "+--------+--------------------+\n",
            "|Aliya153| Your website is ...|\n",
            "|   Sara2| You need to work...|\n",
            "|   Ali45|            Good !!!|\n",
            "|   Ali45| I will definitel...|\n",
            "+--------+--------------------+\n",
            "\n"
          ]
        }
      ]
    },
    {
      "cell_type": "markdown",
      "source": [
        "#GIVING NAMES TO COLUMNS:"
      ],
      "metadata": {
        "id": "CO8yeBCMZZwm"
      }
    },
    {
      "cell_type": "code",
      "source": [
        "schema = \"USER_NAME STRING, COMMENTS STRING\"\n",
        "FILE = spark.read.format(\"csv\") \\\n",
        "             .schema(schema) \\\n",
        "             .load(\"DATA_TWO.txt\")\n",
        "FILE.show()"
      ],
      "metadata": {
        "colab": {
          "base_uri": "https://localhost:8080/"
        },
        "id": "oY3sinatZXDE",
        "outputId": "79e9f7ab-9c1d-4f6f-beea-e7b093d32aa4"
      },
      "execution_count": null,
      "outputs": [
        {
          "output_type": "stream",
          "name": "stdout",
          "text": [
            "+---------+--------------------+\n",
            "|USER_NAME|            COMMENTS|\n",
            "+---------+--------------------+\n",
            "| Aliya153| Your website is ...|\n",
            "|    Sara2| You need to work...|\n",
            "|    Ali45|            Good !!!|\n",
            "|    Ali45| I will definitel...|\n",
            "+---------+--------------------+\n",
            "\n"
          ]
        }
      ]
    },
    {
      "cell_type": "code",
      "source": [
        "FILE.filter(length(FILE[\"COMMENTS\"]) > 20).show()"
      ],
      "metadata": {
        "colab": {
          "base_uri": "https://localhost:8080/"
        },
        "id": "HUIzhgrxXIrw",
        "outputId": "5a773e09-d3e6-42c9-f612-65bec905a4eb"
      },
      "execution_count": null,
      "outputs": [
        {
          "output_type": "stream",
          "name": "stdout",
          "text": [
            "+---------+--------------------+\n",
            "|USER_NAME|            COMMENTS|\n",
            "+---------+--------------------+\n",
            "| Aliya153| Your website is ...|\n",
            "|    Sara2| You need to work...|\n",
            "|    Ali45| I will definitel...|\n",
            "+---------+--------------------+\n",
            "\n"
          ]
        }
      ]
    },
    {
      "cell_type": "code",
      "source": [
        "counts = FILE.groupBy(\"USER_NAME\").count()\n",
        "counts.show()"
      ],
      "metadata": {
        "colab": {
          "base_uri": "https://localhost:8080/"
        },
        "id": "aiy-jK7rcnJP",
        "outputId": "02a2310c-7a16-4b82-9d74-efd63ffb805a"
      },
      "execution_count": null,
      "outputs": [
        {
          "output_type": "stream",
          "name": "stdout",
          "text": [
            "+---------+-----+\n",
            "|USER_NAME|count|\n",
            "+---------+-----+\n",
            "|    Ali45|    2|\n",
            "| Aliya153|    1|\n",
            "|    Sara2|    1|\n",
            "+---------+-----+\n",
            "\n"
          ]
        }
      ]
    },
    {
      "cell_type": "code",
      "source": [
        "max_commenter = counts.orderBy(desc(\"count\")).first()[\"USER_NAME\"]\n",
        "print(\"USER WITH MAXIMUM NUMBER OF COMMENTS=\",max_commenter)"
      ],
      "metadata": {
        "colab": {
          "base_uri": "https://localhost:8080/"
        },
        "id": "cQlDsPF1cuzC",
        "outputId": "44ed7728-696a-4afd-86a2-14b60945a89b"
      },
      "execution_count": null,
      "outputs": [
        {
          "output_type": "stream",
          "name": "stdout",
          "text": [
            "USER WITH MAXIMUM NUMBER OF COMMENTS= Ali45\n"
          ]
        }
      ]
    },
    {
      "cell_type": "markdown",
      "source": [
        "#QUESTION_FOUR:"
      ],
      "metadata": {
        "id": "pzVFvE-ceMmc"
      }
    },
    {
      "cell_type": "code",
      "source": [
        "file=spark.read.csv(\"english.txt\")\n",
        "file.show()"
      ],
      "metadata": {
        "colab": {
          "base_uri": "https://localhost:8080/"
        },
        "id": "lewdP-WvfKAt",
        "outputId": "4cc378b0-ebfd-446c-bdbe-34a114ca49a9"
      },
      "execution_count": null,
      "outputs": [
        {
          "output_type": "stream",
          "name": "stdout",
          "text": [
            "+-----------+\n",
            "|        _c0|\n",
            "+-----------+\n",
            "|        'll|\n",
            "|       'tis|\n",
            "|      'twas|\n",
            "|        've|\n",
            "|         10|\n",
            "|         39|\n",
            "|          a|\n",
            "|        a's|\n",
            "|       able|\n",
            "|  ableabout|\n",
            "|      about|\n",
            "|      above|\n",
            "|     abroad|\n",
            "|       abst|\n",
            "| accordance|\n",
            "|  according|\n",
            "|accordingly|\n",
            "|     across|\n",
            "|        act|\n",
            "|   actually|\n",
            "+-----------+\n",
            "only showing top 20 rows\n",
            "\n"
          ]
        }
      ]
    },
    {
      "cell_type": "code",
      "source": [
        "stop_words = StopWordsRemover.loadDefaultStopWords(\"english\")"
      ],
      "metadata": {
        "id": "8NMeDaIMff8J"
      },
      "execution_count": null,
      "outputs": []
    },
    {
      "cell_type": "code",
      "source": [
        "def remove_stop_words(words):\n",
        "    return [word for word in words if word.lower() not in stop_words]"
      ],
      "metadata": {
        "id": "4H0XSvxYgTTb"
      },
      "execution_count": null,
      "outputs": []
    },
    {
      "cell_type": "code",
      "source": [
        "remove_stop_words_udf = udf(remove_stop_words, ArrayType(StringType()))"
      ],
      "metadata": {
        "id": "jvU1g6XAhSpy"
      },
      "execution_count": null,
      "outputs": []
    },
    {
      "cell_type": "code",
      "source": [
        "df = FILE.withColumn(\"COMMENTS\", remove_stop_words_udf(\"COMMENTS\"))"
      ],
      "metadata": {
        "id": "ZTexUG1uhUtW"
      },
      "execution_count": null,
      "outputs": []
    },
    {
      "cell_type": "code",
      "source": [
        "df.show()"
      ],
      "metadata": {
        "colab": {
          "base_uri": "https://localhost:8080/"
        },
        "id": "ZG7Tz-hnhZOM",
        "outputId": "3f424c3c-af39-4fb4-e88c-aa81aa214f86"
      },
      "execution_count": null,
      "outputs": [
        {
          "output_type": "stream",
          "name": "stdout",
          "text": [
            "+---------+--------------------+\n",
            "|USER_NAME|            COMMENTS|\n",
            "+---------+--------------------+\n",
            "| Aliya153|[ , Y, o, u, r,  ...|\n",
            "|    Sara2|[ , Y, o, u,  , n...|\n",
            "|    Ali45|[ , G, o, o, d,  ...|\n",
            "|    Ali45|[ ,  , w, l, l,  ...|\n",
            "+---------+--------------------+\n",
            "\n"
          ]
        }
      ]
    }
  ]
}