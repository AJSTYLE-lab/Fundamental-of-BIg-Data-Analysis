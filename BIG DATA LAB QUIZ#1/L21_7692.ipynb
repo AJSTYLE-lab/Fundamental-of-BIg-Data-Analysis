{
  "cells": [
    {
      "cell_type": "markdown",
      "metadata": {
        "id": "view-in-github",
        "colab_type": "text"
      },
      "source": [
        "<a href=\"https://colab.research.google.com/github/AJSTYLE-lab/Fundamental-of-BIg-Data-Analysis/blob/main/BIG%20DATA%20LAB%20QUIZ%231/L21_7692.ipynb\" target=\"_parent\"><img src=\"https://colab.research.google.com/assets/colab-badge.svg\" alt=\"Open In Colab\"/></a>"
      ]
    },
    {
      "cell_type": "markdown",
      "metadata": {
        "id": "HVcnQP2mwVgG"
      },
      "source": [
        "**Big Data Lab - Quiz-1 - Spring 2023** <br>\n",
        "Please note:\n",
        "- Total marks are 10\n",
        "- No internet or helping material is allowed\n",
        "- You can use Google colab (only if Jupyter is not installed on your system\n",
        "- Please submit your ipynb mfile on Google Classroom\n",
        "- Add #Roll_Number as filename and download the .ipynb file, submit the file. No link sharing is allowed.\n",
        "- The allowed time is **30 minutes**\n"
      ]
    },
    {
      "cell_type": "markdown",
      "metadata": {
        "id": "Bd0NB6C4t6d-"
      },
      "source": [
        "All the Questions are to be solved. <br>\n",
        "**Solve the following problems (Marks = 10)** <br>\n",
        "\n"
      ]
    },
    {
      "cell_type": "markdown",
      "metadata": {
        "id": "ASKFOEYHudh9"
      },
      "source": [
        "**Part I: Find the matching substrings (Marks=2)** <br>\n",
        "\n"
      ]
    },
    {
      "cell_type": "markdown",
      "metadata": {
        "id": "Gr8wIFauudrk"
      },
      "source": [
        "Write a function get_substring_positions() that accepts two strings as arguments. Return the **number of the positions** where they contain the same substring of length 2. For example, **\"docatzz\"** and **\"dobatz\"** should yield 3, since the \"do\", \"at\", and \"tz\" substrings appear in the same place in both strings."
      ]
    },
    {
      "cell_type": "code",
      "execution_count": null,
      "metadata": {
        "id": "SUvngyBOvBe_",
        "colab": {
          "base_uri": "https://localhost:8080/"
        },
        "outputId": "1cee0089-af1a-4f08-ee20-86a9a24d134c"
      },
      "outputs": [
        {
          "output_type": "execute_result",
          "data": {
            "text/plain": [
              "True"
            ]
          },
          "metadata": {},
          "execution_count": 29
        }
      ],
      "source": [
        "#### Write your code here ####\n",
        "#### Write your code here ####\n",
        "def get_substring_positions(s_one,s_two):\n",
        "  n=len(s_one)\n",
        "  m=len(s_two)\n",
        "  for i in range(0,n):\n",
        "      for j in range(i,m):\n",
        "        if str(s_one[i])==str(s_two[j]):\n",
        "          #print(s_one[i])\n",
        "          return True\n",
        "\n",
        "  return False\n",
        "\n",
        "\n",
        "\n",
        "\n",
        "\n",
        "get_substring_positions(\"docatzz\",\"dobatz\")"
      ]
    },
    {
      "cell_type": "markdown",
      "metadata": {
        "id": "qEgXOzuludwe"
      },
      "source": [
        "**Part II: Find all tuples divisible by K (Marks = 1.5)**"
      ]
    },
    {
      "cell_type": "markdown",
      "metadata": {
        "id": "Y8-tOh4HudzM"
      },
      "source": [
        "Given a list of tuples. The task is to extract all tuples which have all elements divisible by K.\n",
        "<br>\n",
        "Input : test_list = [(6, 24, 12), (60, 12, 6), (12, 18, 21)] <br>   K = 6 <br>\n",
        "Output : [(6, 24, 12), (60, 12, 6)] <br> \n",
        "Explanation : Both tuples have all elements multiple of 6 <br>"
      ]
    },
    {
      "cell_type": "code",
      "execution_count": null,
      "metadata": {
        "id": "YsIbelBSwTSE",
        "colab": {
          "base_uri": "https://localhost:8080/"
        },
        "outputId": "0fae3dd2-b6f2-4572-f3e9-e1cd2936d4d6"
      },
      "outputs": [
        {
          "output_type": "stream",
          "name": "stdout",
          "text": [
            "ENTER K=\n",
            "6\n",
            "LIST OF TUPLE DIVISIBLE BY 6 = [(6, 24, 12), (60, 12, 6)]\n"
          ]
        }
      ],
      "source": [
        "### write your code here ###\n",
        "### write your code here ###\n",
        "test_list = [(6, 24, 12), (60, 12, 6), (12, 18, 21)]\n",
        "print(\"ENTER K=\")\n",
        "K = input()\n",
        "SELECTED_LIST = list(filter(lambda tup: all(value % int(K) == 0 for value in tup),  test_list))\n",
        "print(\"LIST OF TUPLE DIVISIBLE BY\",int(K),\"=\", str(SELECTED_LIST))\n"
      ]
    },
    {
      "cell_type": "markdown",
      "metadata": {
        "id": "AXoUgd-Pud10"
      },
      "source": [
        "**Part III: Find if there are common elements between two lists (Marks=1.5)**"
      ]
    },
    {
      "cell_type": "markdown",
      "metadata": {
        "id": "I6Y8QhaJud4s"
      },
      "source": [
        "Given two lists a, b. Check if two lists have at least one element common in them. <br>\n",
        "Input : a = [1, 2, 3, 4, 5] , b = [5, 6, 7, 8, 9] <br>\n",
        "Output : True <br>\n",
        "**Note:** You are not allowed to use Loop (of any type)"
      ]
    },
    {
      "cell_type": "code",
      "execution_count": null,
      "metadata": {
        "id": "jv-zJRrLxmr2",
        "colab": {
          "base_uri": "https://localhost:8080/"
        },
        "outputId": "8964e9c9-61bf-43b1-e590-775f8d7edc61"
      },
      "outputs": [
        {
          "output_type": "stream",
          "name": "stdout",
          "text": [
            "True\n"
          ]
        }
      ],
      "source": [
        "a = [1, 2, 3, 4, 5]\n",
        "b = [5, 6, 7, 8, 9]\n",
        "\n",
        "if a!=b:\n",
        "    print('True')\n",
        "else:\n",
        "    print('False')"
      ]
    },
    {
      "cell_type": "markdown",
      "metadata": {
        "id": "RcsF9VpUud7F"
      },
      "source": [
        "**Part IV: Analyze the dataset (Marks=5)**\n",
        "<br>\n",
        "Dataset is attached. *googleplaystore.csv*"
      ]
    },
    {
      "cell_type": "markdown",
      "metadata": {
        "id": "eoXPSUX-4PvA"
      },
      "source": [
        "**Part A: Find the count of apps for each category (Marks= 1.5)**"
      ]
    },
    {
      "cell_type": "code",
      "execution_count": null,
      "metadata": {
        "colab": {
          "base_uri": "https://localhost:8080/",
          "height": 433
        },
        "id": "lhlh8Z8C2B9p",
        "outputId": "88e81a6b-15a1-4bf2-d4d8-65de718f0bd8"
      },
      "outputs": [
        {
          "data": {
            "text/plain": [
              "Text(0.5, 1.0, 'Count of app in each category')"
            ]
          },
          "execution_count": 10,
          "metadata": {},
          "output_type": "execute_result"
        },
        {
          "data": {
            "image/png": "[encoded data removed]",
            "text/plain": [
              "<Figure size 432x288 with 1 Axes>"
            ]
          },
          "metadata": {
            "needs_background": "light"
          },
          "output_type": "display_data"
        }
      ],
      "source": [
        "### write your code here use only matplotlib, pandas ###\n",
        "### write your code here use only matplotlib, pandas ###\n",
        "import pandas as pd\n",
        "import matplotlib.pyplot as plt\n",
        "FILE=pd.read_csv(\"googleplaystore.csv\")\n",
        "#plt.title(\"Count of app in each category.\")\n",
        "langs = [FILE.columns]\n",
        "plt.bar(FILE[\"Category\"],FILE[\"Reviews\"])\n",
        "plt.show()"
      ]
    },
    {
      "cell_type": "markdown",
      "metadata": {
        "id": "jWss8OoF5GT3"
      },
      "source": [
        "**Part B: List the names of top 10 most installed applications (Marks=1.5)**"
      ]
    },
    {
      "cell_type": "code",
      "execution_count": null,
      "metadata": {
        "id": "TFN8ZhIJ5chm"
      },
      "outputs": [],
      "source": [
        "### Write your code here"
      ]
    },
    {
      "cell_type": "markdown",
      "metadata": {
        "id": "9yiaJ4t05gFH"
      },
      "source": [
        "\n",
        "\n",
        "```\n",
        "# This is formatted as code\n",
        "```\n",
        "\n",
        "**Part C: (Marks =  2)** <br> List the names of top 10 most installed applications (in both paid and free versions) and plot them. There should be two plots, one for free apps and second for paid apps"
      ]
    },
    {
      "cell_type": "code",
      "execution_count": null,
      "metadata": {
        "id": "su8BrncW443N"
      },
      "outputs": [],
      "source": [
        "### Write your code here"
      ]
    },
    {
      "cell_type": "markdown",
      "metadata": {
        "id": "GdLw6w8nCckU"
      },
      "source": [
        "**Sample matplotlib code**"
      ]
    },
    {
      "cell_type": "code",
      "execution_count": null,
      "metadata": {
        "colab": {
          "base_uri": "https://localhost:8080/",
          "height": 336
        },
        "id": "nyK4W0MLCbiF",
        "outputId": "7ccf8361-03f1-44fa-cfb7-67ebf375dd78"
      },
      "outputs": [
        {
          "data": {
            "image/png": "[encoded data removed]",
            "text/plain": [
              "<Figure size 432x288 with 1 Axes>"
            ]
          },
          "metadata": {
            "needs_background": "light"
          },
          "output_type": "display_data"
        }
      ],
      "source": [
        "import matplotlib.pyplot as plt\n",
        "fig = plt.figure()\n",
        "ax = fig.add_axes([0,0,1,1])\n",
        "langs = ['C', 'C++', 'Java', 'Python', 'PHP']\n",
        "students = [23,17,35,29,12]\n",
        "ax.bar(langs,students)\n",
        "plt.show()"
      ]
    }
  ],
  "metadata": {
    "colab": {
      "provenance": [],
      "include_colab_link": true
    },
    "kernelspec": {
      "display_name": "Python 3",
      "language": "python",
      "name": "python3"
    },
    "language_info": {
      "codemirror_mode": {
        "name": "ipython",
        "version": 3
      },
      "file_extension": ".py",
      "mimetype": "text/x-python",
      "name": "python",
      "nbconvert_exporter": "python",
      "pygments_lexer": "ipython3",
      "version": "3.8.8"
    }
  },
  "nbformat": 4,
  "nbformat_minor": 0
}