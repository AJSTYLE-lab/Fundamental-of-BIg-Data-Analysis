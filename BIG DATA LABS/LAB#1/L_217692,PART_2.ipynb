{
  "nbformat": 4,
  "nbformat_minor": 0,
  "metadata": {
    "colab": {
      "provenance": [],
      "include_colab_link": true
    },
    "kernelspec": {
      "name": "python3",
      "display_name": "Python 3"
    },
    "language_info": {
      "name": "python"
    }
  },
  "cells": [
    {
      "cell_type": "markdown",
      "metadata": {
        "id": "view-in-github",
        "colab_type": "text"
      },
      "source": [
        "<a href=\"https://colab.research.google.com/github/AJSTYLE-lab/Fundamental-of-BIg-Data-Analysis/blob/main/BIG%20DATA%20LABS/LAB%231/L_217692%2CPART_2.ipynb\" target=\"_parent\"><img src=\"https://colab.research.google.com/assets/colab-badge.svg\" alt=\"Open In Colab\"/></a>"
      ]
    },
    {
      "cell_type": "markdown",
      "source": [
        "#Task1:"
      ],
      "metadata": {
        "id": "ilFcMc0hNJEv"
      }
    },
    {
      "cell_type": "code",
      "source": [
        "\n",
        "def FUNCTION_TO_PRINT_TRIANGLE():\n",
        "   for i in range(12):\n",
        "    for j in range(12-i):\n",
        "        print(' ', end='') # printing space required and staying in same line\n",
        "    \n",
        "    for j in range(2*i+1):\n",
        "        if j==0 or j==2*i or i==12-1:\n",
        "            print('*',end='')\n",
        "        else:\n",
        "            print(' ', end='')\n",
        "    print() # printing new line\n",
        "#*************#\n",
        "print(\"1.Triangle.\\n2.Rectangle.\")\n",
        "choice=input(\"ENTER CHOICE=\")\n",
        "if int(choice)==1:\n",
        "  FUNCTION_TO_PRINT_TRIANGLE()\n",
        "elif int(choice)==2:\n",
        "  row = int(input(\"Enter number of rows: \"))\n",
        "  col = int(input(\"Enter number of columns: \"))\n",
        "\n",
        "  print(\"Hollow rectangular pattern is: \")\n",
        "  for i in range(1,row+1):\n",
        "    for j in range(1,col+1):\n",
        "        if i==1 or i==row or j==1 or j==col:\n",
        "            print(\"*\", end=\"\")\n",
        "        else:\n",
        "            print(\" \", end=\"\")\n",
        "    print()\n"
      ],
      "metadata": {
        "colab": {
          "base_uri": "https://localhost:8080/"
        },
        "id": "HZN3_l9PNJzb",
        "outputId": "a1a6a6ac-037e-4581-c8db-daa2022f3a5d"
      },
      "execution_count": null,
      "outputs": [
        {
          "output_type": "stream",
          "name": "stdout",
          "text": [
            "1.Triangle.\n",
            "2.Rectangle.\n",
            "ENTER CHOICE=1\n",
            "            *\n",
            "           * *\n",
            "          *   *\n",
            "         *     *\n",
            "        *       *\n",
            "       *         *\n",
            "      *           *\n",
            "     *             *\n",
            "    *               *\n",
            "   *                 *\n",
            "  *                   *\n",
            " ***********************\n"
          ]
        }
      ]
    },
    {
      "cell_type": "markdown",
      "source": [
        "#Task 2:"
      ],
      "metadata": {
        "id": "qUOh3XXFPFGJ"
      }
    },
    {
      "cell_type": "code",
      "source": [
        "#**************************\n",
        "DICT = {1: \"AHMED\", 2: \"JAVED\", 3: \"LAHORE\"}\n",
        "print(DICT.keys())\n",
        "print(DICT[3])\n",
        "print(DICT.get(2))\n",
        "DICT[3] = \"ISLMABAD\"\n",
        "print(\"UPDATED DICTIONARY=\", DICT)\n",
        "print(\" DICTIONARY LENGTH\", len(DICT))\n",
        "#*************************************\n",
        "TUP= ()\n",
        "print(TUP)\n",
        "\n",
        "# Tuple having integers\n",
        "TUP= (1, 2, 3)\n",
        "print(TUP)\n",
        "\n",
        "# tuple with mixed datatypes\n",
        "TUP = (8, \"Hello_WORLD!\", 4.9)\n",
        "print(TUP)\n",
        "\n",
        "# nested tuple\n",
        "TUP = (\"keyboard\", [6, 4,8], (3, 1,2))\n",
        "print(TUP)\n",
        "#******************accessing part\n",
        "TUP = ('p', 'r', 'o', 'g', 'r', 'a', 'm', 'i', 'z')\n",
        "\n",
        "print(TUP[-3]) # prints 'z'\n",
        "print(TUP[-2]) # prints 'm'"
      ],
      "metadata": {
        "colab": {
          "base_uri": "https://localhost:8080/"
        },
        "id": "saba07N6NT2f",
        "outputId": "31b99d15-5f23-472c-ff15-ccaf47a82095"
      },
      "execution_count": null,
      "outputs": [
        {
          "output_type": "stream",
          "name": "stdout",
          "text": [
            "dict_keys([1, 2, 3])\n",
            "LAHORE\n",
            "JAVED\n",
            "UPDATED DICTIONARY= {1: 'AHMED', 2: 'JAVED', 3: 'ISLMABAD'}\n",
            " DICTIONARY LENGTH 3\n",
            "()\n",
            "(1, 2, 3)\n",
            "(8, 'Hello_WORLD!', 4.9)\n",
            "('keyboard', [6, 4, 8], (3, 1, 2))\n",
            "m\n",
            "i\n"
          ]
        }
      ]
    },
    {
      "cell_type": "markdown",
      "source": [
        "#TASK3:"
      ],
      "metadata": {
        "id": "633Kw7Jqc5rW"
      }
    },
    {
      "cell_type": "code",
      "source": [
        "from math import pi\n",
        "pi=22/7\n",
        "height = float(input('Height of cylinder: '))\n",
        "r = float(input('Radius of cylinder: '))\n",
        "volume = pi * r * r * height\n",
        "print(volume)"
      ],
      "metadata": {
        "colab": {
          "base_uri": "https://localhost:8080/"
        },
        "id": "RJmmblcBdCxO",
        "outputId": "8fce5325-f7a0-4ba9-c163-c2dd17a77f6a"
      },
      "execution_count": null,
      "outputs": [
        {
          "output_type": "stream",
          "name": "stdout",
          "text": [
            "Height of cylinder: 2\n",
            "Radius of cylinder: 2\n",
            "25.142857142857142\n"
          ]
        }
      ]
    },
    {
      "cell_type": "markdown",
      "source": [
        ":#Task4:"
      ],
      "metadata": {
        "id": "MXxigK20Stfu"
      }
    },
    {
      "cell_type": "code",
      "source": [
        "def ADDITION(a,b):\n",
        "  sum=0\n",
        "  sum=int(a)+int(b)\n",
        "  print(\"SUM=\",int(sum),\"\\n******************************************\")\n",
        "  return sum\n",
        "def SUBTRACTION(c,d):\n",
        "  diff=0\n",
        "  diff=int(c)-int(d)\n",
        "  print(\"SUBTRACTION=\",int(diff),\"\\n******************************************\")\n",
        "  return diff\n",
        "def PRODUCT(i,j):\n",
        "  p=0\n",
        "  p=int(i)*int(j)\n",
        "  print(\"MULTIPLICATION=\",int(p),\"\\n******************************************\")\n",
        "  return p\n",
        "def DIVISION(x,y):\n",
        "  div=0\n",
        "  div=int(x)/int(y)\n",
        "  print(\"DIVISION=\",int(div))\n",
        "  return div\n",
        "#***************************\n",
        "print(\"1.FOR ADDITION.\\n2.FOR SUBTRACTION.\\n3.FOR MULTIPLICATION.\\n4.FOR DIVISION.\")\n",
        "choice=input(\"ENTER CHOICE.\")\n",
        "print(\"ENTER NUMBER 1=\")\n",
        "number_one=input()\n",
        "print(\"ENTER NUMBER 2=\")\n",
        "number_two=input()\n",
        "if int(choice)==1:\n",
        "  ADDITION(number_one,number_two)\n",
        "elif int(choice)==2:\n",
        "  SUBTRACTION(number_one,number_two)\n",
        "elif int(choice)==3:\n",
        "  PRODUCT(number_one,number_two)\n",
        "elif int(choice)==4:\n",
        "  DIVISION(number_one,number_two)\n"
      ],
      "metadata": {
        "colab": {
          "base_uri": "https://localhost:8080/"
        },
        "id": "e5m_7xGjPdfB",
        "outputId": "9c6cd83f-6588-4bda-e274-4db7bd4c44e1"
      },
      "execution_count": null,
      "outputs": [
        {
          "output_type": "stream",
          "name": "stdout",
          "text": [
            "1.FOR ADDITION.\n",
            "2.FOR SUBTRACTION.\n",
            "3.FOR MULTIPLICATION.\n",
            "4.FOR DIVISION.\n",
            "ENTER CHOICE.1\n",
            "ENTER NUMBER 1=\n",
            "10\n",
            "ENTER NUMBER 2=\n",
            "2\n",
            "SUM= 12 \n",
            "******************************************\n"
          ]
        }
      ]
    },
    {
      "cell_type": "markdown",
      "source": [
        "#Task5:"
      ],
      "metadata": {
        "id": "7XORLcmrWi7u"
      }
    },
    {
      "cell_type": "code",
      "source": [
        "def func_to_check_palindrome (parameter):\n",
        "\n",
        "              for k in range (0, int (len (parameter)/2)):\n",
        "\n",
        "                             if parameter [k] != parameter [len (parameter) -k-1]:\n",
        "\n",
        "                                            return False \n",
        "\n",
        "                             return True\n",
        "\n",
        "str_1 = input (\"Enter a string.\")\n",
        "\n",
        "ans = func_to_check_palindrome (str_1)\n",
        "\n",
        "if (ans):\n",
        "\n",
        "              print (\"Yes, it is a palindrome.\")\n",
        "\n",
        "else:\n",
        "\n",
        "              print (\"No, it is not a palindrome.\")"
      ],
      "metadata": {
        "colab": {
          "base_uri": "https://localhost:8080/"
        },
        "id": "lFPdWxTAQzl_",
        "outputId": "6693eb6d-796f-415f-a17a-7c88c07d12a4"
      },
      "execution_count": null,
      "outputs": [
        {
          "output_type": "stream",
          "name": "stdout",
          "text": [
            "Enter a string.HELLO I  AM AHMED JAVED\n",
            "No, it is not a palindrome.\n"
          ]
        }
      ]
    },
    {
      "cell_type": "markdown",
      "source": [
        "#Task6"
      ],
      "metadata": {
        "id": "F3boE_4LW2D-"
      }
    },
    {
      "cell_type": "code",
      "source": [
        "\n",
        "number = int(input(\"ENTER NUMBER=\"))\n",
        "f = 1\n",
        "if int(number) < 0:\n",
        "   print(\"FACTORIAL OF NEGATIVE NUMBER DOES NOT EXIST.\")\n",
        "else:\n",
        "   for k in range(1,number + 1):\n",
        "       f = f*k\n",
        "   print(\"FACTORIAL OF\",number,\"=\",f)"
      ],
      "metadata": {
        "colab": {
          "base_uri": "https://localhost:8080/"
        },
        "id": "sS2mKb8eW6UW",
        "outputId": "dcd52aa9-ddac-4645-c1eb-7ab148adb59f"
      },
      "execution_count": null,
      "outputs": [
        {
          "output_type": "stream",
          "name": "stdout",
          "text": [
            "ENTER NUMBER=3\n",
            "FACTORIAL OF 3 = 6\n"
          ]
        }
      ]
    },
    {
      "cell_type": "markdown",
      "source": [
        "#Task 7:"
      ],
      "metadata": {
        "id": "QPK7cD3kXtWI"
      }
    },
    {
      "cell_type": "code",
      "source": [
        "def ARE_THEY_SAME(L1,L2):\n",
        "  print(L1,L2)\n",
        "  if(L1==L2):\n",
        "    return True\n",
        "  else:\n",
        "    return False\n",
        "\n",
        "\n",
        "l1 = [10, 20, 30, 40, 50] \n",
        "l2 = [20, 30, 50, 40, 70] \n",
        "print(ARE_THEY_SAME(l1,l2))"
      ],
      "metadata": {
        "colab": {
          "base_uri": "https://localhost:8080/"
        },
        "id": "DdD6yaOaXIts",
        "outputId": "11b9fbd3-f12f-4da7-c94d-d8a2bf6928b1"
      },
      "execution_count": null,
      "outputs": [
        {
          "output_type": "stream",
          "name": "stdout",
          "text": [
            "[10, 20, 30, 40, 50] [20, 30, 50, 40, 70]\n",
            "False\n"
          ]
        }
      ]
    },
    {
      "cell_type": "markdown",
      "source": [
        "#Task8:"
      ],
      "metadata": {
        "id": "VszItp7cfGQx"
      }
    },
    {
      "cell_type": "code",
      "source": [
        "SET= {100,200,300,400,150}\n",
        "print(\"ORIGINAL SET= \",SET)\n",
        "print(\"SET IS SUPERSET?\")\n",
        "print(SET.issuperset(SET))\n",
        "SET_1 = {100, 200, 300, 40, 55, 17}\n",
        "SET_2= {212, 140}\n",
        "SET_3= {29, 49}\n",
        "print(\"\\nSET_ONE=\", SET_1,\"\\nSET_TWO=\", SET_2,\"\\nSET_THREE=\",SET_3)\n",
        "print(SET_1,\"is superset of\",SET_2)\n",
        "print(SET_1>SET_2)\n",
        "print(\"COMPARE\",SET_2,\"and\",SET_3)\n",
        "print(SET_2,\"SUPERSET OF\",SET_3)\n",
        "print(SET_2>SET_3)\n",
        "print(SET_3,\" IS SUPERSET OF\",SET_2)\n",
        "print(SET_3>SET_2)"
      ],
      "metadata": {
        "colab": {
          "base_uri": "https://localhost:8080/"
        },
        "id": "3BMx52gkY8V1",
        "outputId": "e7093885-61bd-4b80-a4b2-942f02497e80"
      },
      "execution_count": null,
      "outputs": [
        {
          "output_type": "stream",
          "name": "stdout",
          "text": [
            "ORIGINAL SET=  {100, 200, 300, 400, 150}\n",
            "SET IS SUPERSET?\n",
            "True\n",
            "\n",
            "SET_ONE= {100, 200, 40, 300, 17, 55} \n",
            "SET_TWO= {140, 212} \n",
            "SET_THREE= {49, 29}\n",
            "{100, 200, 40, 300, 17, 55} is superset of {140, 212}\n",
            "False\n",
            "COMPARE {140, 212} and {49, 29}\n",
            "{140, 212} SUPERSET OF {49, 29}\n",
            "False\n",
            "{49, 29}  IS SUPERSET OF {140, 212}\n",
            "False\n"
          ]
        }
      ]
    },
    {
      "cell_type": "code",
      "source": [],
      "metadata": {
        "id": "HXbIJyD3fmG8"
      },
      "execution_count": null,
      "outputs": []
    }
  ]
}