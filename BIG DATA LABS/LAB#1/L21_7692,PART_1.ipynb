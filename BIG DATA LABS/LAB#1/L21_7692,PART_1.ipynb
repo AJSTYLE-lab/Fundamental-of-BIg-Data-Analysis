{
  "nbformat": 4,
  "nbformat_minor": 0,
  "metadata": {
    "colab": {
      "provenance": [],
      "include_colab_link": true
    },
    "kernelspec": {
      "name": "python3",
      "display_name": "Python 3"
    },
    "language_info": {
      "name": "python"
    }
  },
  "cells": [
    {
      "cell_type": "markdown",
      "metadata": {
        "id": "view-in-github",
        "colab_type": "text"
      },
      "source": [
        "<a href=\"https://colab.research.google.com/github/AJSTYLE-lab/Fundamental-of-BIg-Data-Analysis/blob/main/BIG%20DATA%20LABS/LAB%231/L21_7692%2CPART_1.ipynb\" target=\"_parent\"><img src=\"https://colab.research.google.com/assets/colab-badge.svg\" alt=\"Open In Colab\"/></a>"
      ]
    },
    {
      "cell_type": "markdown",
      "source": [
        "#9.1 Reverse String:"
      ],
      "metadata": {
        "id": "sYlC-Ci3GD2b"
      }
    },
    {
      "cell_type": "code",
      "source": [
        "LIST = ['h', 'e','l','l','o']\n",
        "print(\" BEFORE REVERSE=\",LIST)\n",
        "print(\"*********************************************\")\n",
        "n= len(LIST)#n=total length\n",
        "x=0 \n",
        "while x<int(n/2):\n",
        "  N=LIST[x]\n",
        "  LIST[x]=LIST[n-x-1]\n",
        "  LIST[n-x-1]=N\n",
        "  x=x+1\n",
        "print(\"AFTER REVERSE=\",LIST)"
      ],
      "metadata": {
        "colab": {
          "base_uri": "https://localhost:8080/"
        },
        "id": "S9BLX3piFnvJ",
        "outputId": "3d0569e9-4571-4b77-c002-96a26fc0d808"
      },
      "execution_count": null,
      "outputs": [
        {
          "output_type": "stream",
          "name": "stdout",
          "text": [
            " BEFORE REVERSE= ['h', 'e', 'l', 'l', 'o']\n",
            "*********************************************\n",
            "AFTER REVERSE= ['o', 'l', 'l', 'e', 'h']\n"
          ]
        }
      ]
    },
    {
      "cell_type": "markdown",
      "source": [
        "#9.2 Valid Palindrome:"
      ],
      "metadata": {
        "id": "yq0kPu-YGS95"
      }
    },
    {
      "cell_type": "code",
      "source": [
        "def func_to_check_palindrome (parameter):\n",
        "\n",
        "              for k in range (0, int (len (parameter)/2)):\n",
        "\n",
        "                             if parameter [k] != parameter [len (parameter) -k-1]:\n",
        "\n",
        "                                            return False \n",
        "\n",
        "                             return True\n",
        "\n",
        "st = input (\"Enter a string.\")\n",
        "\n",
        "ans = func_to_check_palindrome (st)\n",
        "\n",
        "if (ans):\n",
        "\n",
        "              print (\"PALINDROME.\")\n",
        "\n",
        "else:\n",
        "\n",
        "              print (\"NOT PALINDROME.\")"
      ],
      "metadata": {
        "colab": {
          "base_uri": "https://localhost:8080/"
        },
        "id": "Y7LwPPWnGRTS",
        "outputId": "c4b3e397-b10d-48c3-88d1-f066a173a46a"
      },
      "execution_count": null,
      "outputs": [
        {
          "output_type": "stream",
          "name": "stdout",
          "text": [
            "Enter a string.HELLO WORLD\n",
            "No, it is not a palindrome.\n"
          ]
        }
      ]
    },
    {
      "cell_type": "markdown",
      "source": [
        "9.3 Sqrt(x) without any built-in methods:"
      ],
      "metadata": {
        "id": "KQEm-9DfK68b"
      }
    },
    {
      "cell_type": "code",
      "source": [
        "number=int(input(\"ENTER NUMBER=\"))\n",
        "number_sq= (number **(1/2))\n",
        "print (\"SQUARE ROOT OF\",number,\"=\",number_sq)"
      ],
      "metadata": {
        "colab": {
          "base_uri": "https://localhost:8080/"
        },
        "id": "DPVcPUM0IT7z",
        "outputId": "53d50828-3fd4-4864-9844-78d10cbe83da"
      },
      "execution_count": null,
      "outputs": [
        {
          "output_type": "stream",
          "name": "stdout",
          "text": [
            "ENTER NUMBER=8\n",
            "SQUARE ROOT OF 8 = 2.8284271247461903\n"
          ]
        }
      ]
    },
    {
      "cell_type": "code",
      "source": [],
      "metadata": {
        "id": "yAxAkPTfLgme"
      },
      "execution_count": null,
      "outputs": []
    }
  ]
}