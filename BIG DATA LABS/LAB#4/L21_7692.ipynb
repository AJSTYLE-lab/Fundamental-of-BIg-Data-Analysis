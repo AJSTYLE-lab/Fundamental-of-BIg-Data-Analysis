{
  "nbformat": 4,
  "nbformat_minor": 0,
  "metadata": {
    "colab": {
      "provenance": [],
      "include_colab_link": true
    },
    "kernelspec": {
      "name": "python3",
      "display_name": "Python 3"
    },
    "language_info": {
      "name": "python"
    }
  },
  "cells": [
    {
      "cell_type": "markdown",
      "metadata": {
        "id": "view-in-github",
        "colab_type": "text"
      },
      "source": [
        "<a href=\"https://colab.research.google.com/github/AJSTYLE-lab/Fundamental-of-BIg-Data-Analysis/blob/main/BIG%20DATA%20LABS/LAB%234/L21_7692.ipynb\" target=\"_parent\"><img src=\"https://colab.research.google.com/assets/colab-badge.svg\" alt=\"Open In Colab\"/></a>"
      ]
    },
    {
      "cell_type": "markdown",
      "source": [
        "#IMPORITNG LIBRARIES:"
      ],
      "metadata": {
        "id": "55q5GVwqIYZo"
      }
    },
    {
      "cell_type": "code",
      "source": [
        "import pandas as pd\n",
        "import numpy as np\n",
        "from matplotlib import pyplot as plt\n",
        "from sklearn.cluster import AgglomerativeClustering\n",
        "import scipy.cluster.hierarchy as sch\n",
        "from sklearn import preprocessing \n",
        "from scipy.cluster.hierarchy import linkage, dendrogram\n",
        "import math\n",
        "dist = lambda a,b: math.sqrt((a[0]-b[0])**2+(a[1]-b[1])**2)\n"
      ],
      "metadata": {
        "id": "kN2jLvgpIap-"
      },
      "execution_count": null,
      "outputs": []
    },
    {
      "cell_type": "markdown",
      "source": [
        "#IMPORTING .csv FILE:"
      ],
      "metadata": {
        "id": "1oQmvt2kIUoy"
      }
    },
    {
      "cell_type": "code",
      "source": [
        "FILE=pd.read_csv(\"Mall_Customers.csv\")\n",
        "FILE\n"
      ],
      "metadata": {
        "colab": {
          "base_uri": "https://localhost:8080/",
          "height": 655
        },
        "id": "WgQerJq5IToH",
        "outputId": "dc100040-43ca-42ce-cd67-f89716bde292"
      },
      "execution_count": null,
      "outputs": [
        {
          "output_type": "execute_result",
          "data": {
            "text/plain": [
              "     CustomerID   Genre  Age  Annual Income (k$)  Spending Score (1-100)\n",
              "0             1    Male   19                  15                      39\n",
              "1             2    Male   21                  15                      81\n",
              "2             3  Female   20                  16                       6\n",
              "3             4  Female   23                  16                      77\n",
              "4             5  Female   31                  17                      40\n",
              "..          ...     ...  ...                 ...                     ...\n",
              "195         196  Female   35                 120                      79\n",
              "196         197  Female   45                 126                      28\n",
              "197         198    Male   32                 126                      74\n",
              "198         199    Male   32                 137                      18\n",
              "199         200    Male   30                 137                      83\n",
              "\n",
              "[200 rows x 5 columns]"
            ],
            "text/html": [
              "\n",
              "  <div id=\"df-2218fa78-a08d-4d53-9755-830154b72a8b\">\n",
              "    <div class=\"colab-df-container\">\n",
              "      <div>\n",
              "<style scoped>\n",
              "    .dataframe tbody tr th:only-of-type {\n",
              "        vertical-align: middle;\n",
              "    }\n",
              "\n",
              "    .dataframe tbody tr th {\n",
              "        vertical-align: top;\n",
              "    }\n",
              "\n",
              "    .dataframe thead th {\n",
              "        text-align: right;\n",
              "    }\n",
              "</style>\n",
              "<table border=\"1\" class=\"dataframe\">\n",
              "  <thead>\n",
              "    <tr style=\"text-align: right;\">\n",
              "      <th></th>\n",
              "      <th>CustomerID</th>\n",
              "      <th>Genre</th>\n",
              "      <th>Age</th>\n",
              "      <th>Annual Income (k$)</th>\n",
              "      <th>Spending Score (1-100)</th>\n",
              "    </tr>\n",
              "  </thead>\n",
              "  <tbody>\n",
              "    <tr>\n",
              "      <th>0</th>\n",
              "      <td>1</td>\n",
              "      <td>Male</td>\n",
              "      <td>19</td>\n",
              "      <td>15</td>\n",
              "      <td>39</td>\n",
              "    </tr>\n",
              "    <tr>\n",
              "      <th>1</th>\n",
              "      <td>2</td>\n",
              "      <td>Male</td>\n",
              "      <td>21</td>\n",
              "      <td>15</td>\n",
              "      <td>81</td>\n",
              "    </tr>\n",
              "    <tr>\n",
              "      <th>2</th>\n",
              "      <td>3</td>\n",
              "      <td>Female</td>\n",
              "      <td>20</td>\n",
              "      <td>16</td>\n",
              "      <td>6</td>\n",
              "    </tr>\n",
              "    <tr>\n",
              "      <th>3</th>\n",
              "      <td>4</td>\n",
              "      <td>Female</td>\n",
              "      <td>23</td>\n",
              "      <td>16</td>\n",
              "      <td>77</td>\n",
              "    </tr>\n",
              "    <tr>\n",
              "      <th>4</th>\n",
              "      <td>5</td>\n",
              "      <td>Female</td>\n",
              "      <td>31</td>\n",
              "      <td>17</td>\n",
              "      <td>40</td>\n",
              "    </tr>\n",
              "    <tr>\n",
              "      <th>...</th>\n",
              "      <td>...</td>\n",
              "      <td>...</td>\n",
              "      <td>...</td>\n",
              "      <td>...</td>\n",
              "      <td>...</td>\n",
              "    </tr>\n",
              "    <tr>\n",
              "      <th>195</th>\n",
              "      <td>196</td>\n",
              "      <td>Female</td>\n",
              "      <td>35</td>\n",
              "      <td>120</td>\n",
              "      <td>79</td>\n",
              "    </tr>\n",
              "    <tr>\n",
              "      <th>196</th>\n",
              "      <td>197</td>\n",
              "      <td>Female</td>\n",
              "      <td>45</td>\n",
              "      <td>126</td>\n",
              "      <td>28</td>\n",
              "    </tr>\n",
              "    <tr>\n",
              "      <th>197</th>\n",
              "      <td>198</td>\n",
              "      <td>Male</td>\n",
              "      <td>32</td>\n",
              "      <td>126</td>\n",
              "      <td>74</td>\n",
              "    </tr>\n",
              "    <tr>\n",
              "      <th>198</th>\n",
              "      <td>199</td>\n",
              "      <td>Male</td>\n",
              "      <td>32</td>\n",
              "      <td>137</td>\n",
              "      <td>18</td>\n",
              "    </tr>\n",
              "    <tr>\n",
              "      <th>199</th>\n",
              "      <td>200</td>\n",
              "      <td>Male</td>\n",
              "      <td>30</td>\n",
              "      <td>137</td>\n",
              "      <td>83</td>\n",
              "    </tr>\n",
              "  </tbody>\n",
              "</table>\n",
              "<p>200 rows × 5 columns</p>\n",
              "</div>\n",
              "      <button class=\"colab-df-convert\" onclick=\"convertToInteractive('df-2218fa78-a08d-4d53-9755-830154b72a8b')\"\n",
              "              title=\"Convert this dataframe to an interactive table.\"\n",
              "              style=\"display:none;\">\n",
              "        \n",
              "  <svg xmlns=\"http://www.w3.org/2000/svg\" height=\"24px\"viewBox=\"0 0 24 24\"\n",
              "       width=\"24px\">\n",
              "    <path d=\"M0 0h24v24H0V0z\" fill=\"none\"/>\n",
              "    <path d=\"M18.56 5.44l.94 2.06.94-2.06 2.06-.94-2.06-.94-.94-2.06-.94 2.06-2.06.94zm-11 1L8.5 8.5l.94-2.06 2.06-.94-2.06-.94L8.5 2.5l-.94 2.06-2.06.94zm10 10l.94 2.06.94-2.06 2.06-.94-2.06-.94-.94-2.06-.94 2.06-2.06.94z\"/><path d=\"M17.41 7.96l-1.37-1.37c-.4-.4-.92-.59-1.43-.59-.52 0-1.04.2-1.43.59L10.3 9.45l-7.72 7.72c-.78.78-.78 2.05 0 2.83L4 21.41c.39.39.9.59 1.41.59.51 0 1.02-.2 1.41-.59l7.78-7.78 2.81-2.81c.8-.78.8-2.07 0-2.86zM5.41 20L4 18.59l7.72-7.72 1.47 1.35L5.41 20z\"/>\n",
              "  </svg>\n",
              "      </button>\n",
              "      \n",
              "  <style>\n",
              "    .colab-df-container {\n",
              "      display:flex;\n",
              "      flex-wrap:wrap;\n",
              "      gap: 12px;\n",
              "    }\n",
              "\n",
              "    .colab-df-convert {\n",
              "      background-color: #E8F0FE;\n",
              "      border: none;\n",
              "      border-radius: 50%;\n",
              "      cursor: pointer;\n",
              "      display: none;\n",
              "      fill: #1967D2;\n",
              "      height: 32px;\n",
              "      padding: 0 0 0 0;\n",
              "      width: 32px;\n",
              "    }\n",
              "\n",
              "    .colab-df-convert:hover {\n",
              "      background-color: #E2EBFA;\n",
              "      box-shadow: 0px 1px 2px rgba(60, 64, 67, 0.3), 0px 1px 3px 1px rgba(60, 64, 67, 0.15);\n",
              "      fill: #174EA6;\n",
              "    }\n",
              "\n",
              "    [theme=dark] .colab-df-convert {\n",
              "      background-color: #3B4455;\n",
              "      fill: #D2E3FC;\n",
              "    }\n",
              "\n",
              "    [theme=dark] .colab-df-convert:hover {\n",
              "      background-color: #434B5C;\n",
              "      box-shadow: 0px 1px 3px 1px rgba(0, 0, 0, 0.15);\n",
              "      filter: drop-shadow(0px 1px 2px rgba(0, 0, 0, 0.3));\n",
              "      fill: #FFFFFF;\n",
              "    }\n",
              "  </style>\n",
              "\n",
              "      <script>\n",
              "        const buttonEl =\n",
              "          document.querySelector('#df-2218fa78-a08d-4d53-9755-830154b72a8b button.colab-df-convert');\n",
              "        buttonEl.style.display =\n",
              "          google.colab.kernel.accessAllowed ? 'block' : 'none';\n",
              "\n",
              "        async function convertToInteractive(key) {\n",
              "          const element = document.querySelector('#df-2218fa78-a08d-4d53-9755-830154b72a8b');\n",
              "          const dataTable =\n",
              "            await google.colab.kernel.invokeFunction('convertToInteractive',\n",
              "                                                     [key], {});\n",
              "          if (!dataTable) return;\n",
              "\n",
              "          const docLinkHtml = 'Like what you see? Visit the ' +\n",
              "            '<a target=\"_blank\" href=https://colab.research.google.com/notebooks/data_table.ipynb>data table notebook</a>'\n",
              "            + ' to learn more about interactive tables.';\n",
              "          element.innerHTML = '';\n",
              "          dataTable['output_type'] = 'display_data';\n",
              "          await google.colab.output.renderOutput(dataTable, element);\n",
              "          const docLink = document.createElement('div');\n",
              "          docLink.innerHTML = docLinkHtml;\n",
              "          element.appendChild(docLink);\n",
              "        }\n",
              "      </script>\n",
              "    </div>\n",
              "  </div>\n",
              "  "
            ]
          },
          "metadata": {},
          "execution_count": 2
        }
      ]
    },
    {
      "cell_type": "markdown",
      "source": [
        "#TASK A:"
      ],
      "metadata": {
        "id": "U0tf8P8XMUak"
      }
    },
    {
      "cell_type": "markdown",
      "source": [
        "#USING Annual Income (k$) & Spending Score(1-100):"
      ],
      "metadata": {
        "id": "IjMO6iTUI9yE"
      }
    },
    {
      "cell_type": "code",
      "source": [
        "X = FILE.iloc[:, [3, 4]].values\n",
        "model = AgglomerativeClustering(n_clusters=3)\n",
        "model.fit(X)\n",
        "labels = model.labels_\n",
        "print(labels)"
      ],
      "metadata": {
        "colab": {
          "base_uri": "https://localhost:8080/"
        },
        "id": "KqdY2cduJIgo",
        "outputId": "78735821-562c-4145-e431-40d275b8a85f"
      },
      "execution_count": null,
      "outputs": [
        {
          "output_type": "stream",
          "name": "stdout",
          "text": [
            "[0 0 0 0 0 0 0 0 0 0 0 0 0 0 0 0 0 0 0 0 0 0 0 0 0 0 0 0 0 0 0 0 0 0 0 0 0\n",
            " 0 0 0 0 0 0 0 0 0 0 0 0 0 0 0 0 0 0 0 0 0 0 0 0 0 0 0 0 0 0 0 0 0 0 0 0 0\n",
            " 0 0 0 0 0 0 0 0 0 0 0 0 0 0 0 0 0 0 0 0 0 0 0 0 0 0 0 0 0 0 0 0 0 0 0 0 0\n",
            " 0 0 0 0 0 0 0 0 0 0 0 0 2 0 2 0 2 1 2 1 2 0 2 1 2 1 2 1 2 1 2 0 2 1 2 0 2\n",
            " 1 2 1 2 1 2 1 2 1 2 1 2 0 2 1 2 1 2 1 2 1 2 1 2 1 2 1 2 1 2 1 2 1 2 1 2 1\n",
            " 2 1 2 1 2 1 2 1 2 1 2 1 2 1 2]\n"
          ]
        }
      ]
    },
    {
      "cell_type": "markdown",
      "source": [
        "#TASK B:"
      ],
      "metadata": {
        "id": "FBGnNrJyMe3L"
      }
    },
    {
      "cell_type": "markdown",
      "source": [
        "#CONVERTING \"Genre\" column in 0,1 form(1 for Male and 0 for Female): "
      ],
      "metadata": {
        "id": "m5qiG1EHNMGM"
      }
    },
    {
      "cell_type": "code",
      "source": [
        "FILE['Genre'] = preprocessing.LabelEncoder().fit_transform(FILE['Genre'])\n",
        "FILE.head()"
      ],
      "metadata": {
        "colab": {
          "base_uri": "https://localhost:8080/",
          "height": 215
        },
        "id": "5bDuxiDNLk6C",
        "outputId": "b562be3f-d1de-47f3-ce50-a91ba90d3c85"
      },
      "execution_count": null,
      "outputs": [
        {
          "output_type": "execute_result",
          "data": {
            "text/plain": [
              "   CustomerID  Genre  Age  Annual Income (k$)  Spending Score (1-100)\n",
              "0           1      1   19                  15                      39\n",
              "1           2      1   21                  15                      81\n",
              "2           3      0   20                  16                       6\n",
              "3           4      0   23                  16                      77\n",
              "4           5      0   31                  17                      40"
            ],
            "text/html": [
              "\n",
              "  <div id=\"df-aa25e3ce-adb3-4c60-82a3-c053b8ab88e7\">\n",
              "    <div class=\"colab-df-container\">\n",
              "      <div>\n",
              "<style scoped>\n",
              "    .dataframe tbody tr th:only-of-type {\n",
              "        vertical-align: middle;\n",
              "    }\n",
              "\n",
              "    .dataframe tbody tr th {\n",
              "        vertical-align: top;\n",
              "    }\n",
              "\n",
              "    .dataframe thead th {\n",
              "        text-align: right;\n",
              "    }\n",
              "</style>\n",
              "<table border=\"1\" class=\"dataframe\">\n",
              "  <thead>\n",
              "    <tr style=\"text-align: right;\">\n",
              "      <th></th>\n",
              "      <th>CustomerID</th>\n",
              "      <th>Genre</th>\n",
              "      <th>Age</th>\n",
              "      <th>Annual Income (k$)</th>\n",
              "      <th>Spending Score (1-100)</th>\n",
              "    </tr>\n",
              "  </thead>\n",
              "  <tbody>\n",
              "    <tr>\n",
              "      <th>0</th>\n",
              "      <td>1</td>\n",
              "      <td>1</td>\n",
              "      <td>19</td>\n",
              "      <td>15</td>\n",
              "      <td>39</td>\n",
              "    </tr>\n",
              "    <tr>\n",
              "      <th>1</th>\n",
              "      <td>2</td>\n",
              "      <td>1</td>\n",
              "      <td>21</td>\n",
              "      <td>15</td>\n",
              "      <td>81</td>\n",
              "    </tr>\n",
              "    <tr>\n",
              "      <th>2</th>\n",
              "      <td>3</td>\n",
              "      <td>0</td>\n",
              "      <td>20</td>\n",
              "      <td>16</td>\n",
              "      <td>6</td>\n",
              "    </tr>\n",
              "    <tr>\n",
              "      <th>3</th>\n",
              "      <td>4</td>\n",
              "      <td>0</td>\n",
              "      <td>23</td>\n",
              "      <td>16</td>\n",
              "      <td>77</td>\n",
              "    </tr>\n",
              "    <tr>\n",
              "      <th>4</th>\n",
              "      <td>5</td>\n",
              "      <td>0</td>\n",
              "      <td>31</td>\n",
              "      <td>17</td>\n",
              "      <td>40</td>\n",
              "    </tr>\n",
              "  </tbody>\n",
              "</table>\n",
              "</div>\n",
              "      <button class=\"colab-df-convert\" onclick=\"convertToInteractive('df-aa25e3ce-adb3-4c60-82a3-c053b8ab88e7')\"\n",
              "              title=\"Convert this dataframe to an interactive table.\"\n",
              "              style=\"display:none;\">\n",
              "        \n",
              "  <svg xmlns=\"http://www.w3.org/2000/svg\" height=\"24px\"viewBox=\"0 0 24 24\"\n",
              "       width=\"24px\">\n",
              "    <path d=\"M0 0h24v24H0V0z\" fill=\"none\"/>\n",
              "    <path d=\"M18.56 5.44l.94 2.06.94-2.06 2.06-.94-2.06-.94-.94-2.06-.94 2.06-2.06.94zm-11 1L8.5 8.5l.94-2.06 2.06-.94-2.06-.94L8.5 2.5l-.94 2.06-2.06.94zm10 10l.94 2.06.94-2.06 2.06-.94-2.06-.94-.94-2.06-.94 2.06-2.06.94z\"/><path d=\"M17.41 7.96l-1.37-1.37c-.4-.4-.92-.59-1.43-.59-.52 0-1.04.2-1.43.59L10.3 9.45l-7.72 7.72c-.78.78-.78 2.05 0 2.83L4 21.41c.39.39.9.59 1.41.59.51 0 1.02-.2 1.41-.59l7.78-7.78 2.81-2.81c.8-.78.8-2.07 0-2.86zM5.41 20L4 18.59l7.72-7.72 1.47 1.35L5.41 20z\"/>\n",
              "  </svg>\n",
              "      </button>\n",
              "      \n",
              "  <style>\n",
              "    .colab-df-container {\n",
              "      display:flex;\n",
              "      flex-wrap:wrap;\n",
              "      gap: 12px;\n",
              "    }\n",
              "\n",
              "    .colab-df-convert {\n",
              "      background-color: #E8F0FE;\n",
              "      border: none;\n",
              "      border-radius: 50%;\n",
              "      cursor: pointer;\n",
              "      display: none;\n",
              "      fill: #1967D2;\n",
              "      height: 32px;\n",
              "      padding: 0 0 0 0;\n",
              "      width: 32px;\n",
              "    }\n",
              "\n",
              "    .colab-df-convert:hover {\n",
              "      background-color: #E2EBFA;\n",
              "      box-shadow: 0px 1px 2px rgba(60, 64, 67, 0.3), 0px 1px 3px 1px rgba(60, 64, 67, 0.15);\n",
              "      fill: #174EA6;\n",
              "    }\n",
              "\n",
              "    [theme=dark] .colab-df-convert {\n",
              "      background-color: #3B4455;\n",
              "      fill: #D2E3FC;\n",
              "    }\n",
              "\n",
              "    [theme=dark] .colab-df-convert:hover {\n",
              "      background-color: #434B5C;\n",
              "      box-shadow: 0px 1px 3px 1px rgba(0, 0, 0, 0.15);\n",
              "      filter: drop-shadow(0px 1px 2px rgba(0, 0, 0, 0.3));\n",
              "      fill: #FFFFFF;\n",
              "    }\n",
              "  </style>\n",
              "\n",
              "      <script>\n",
              "        const buttonEl =\n",
              "          document.querySelector('#df-aa25e3ce-adb3-4c60-82a3-c053b8ab88e7 button.colab-df-convert');\n",
              "        buttonEl.style.display =\n",
              "          google.colab.kernel.accessAllowed ? 'block' : 'none';\n",
              "\n",
              "        async function convertToInteractive(key) {\n",
              "          const element = document.querySelector('#df-aa25e3ce-adb3-4c60-82a3-c053b8ab88e7');\n",
              "          const dataTable =\n",
              "            await google.colab.kernel.invokeFunction('convertToInteractive',\n",
              "                                                     [key], {});\n",
              "          if (!dataTable) return;\n",
              "\n",
              "          const docLinkHtml = 'Like what you see? Visit the ' +\n",
              "            '<a target=\"_blank\" href=https://colab.research.google.com/notebooks/data_table.ipynb>data table notebook</a>'\n",
              "            + ' to learn more about interactive tables.';\n",
              "          element.innerHTML = '';\n",
              "          dataTable['output_type'] = 'display_data';\n",
              "          await google.colab.output.renderOutput(dataTable, element);\n",
              "          const docLink = document.createElement('div');\n",
              "          docLink.innerHTML = docLinkHtml;\n",
              "          element.appendChild(docLink);\n",
              "        }\n",
              "      </script>\n",
              "    </div>\n",
              "  </div>\n",
              "  "
            ]
          },
          "metadata": {},
          "execution_count": 4
        }
      ]
    },
    {
      "cell_type": "code",
      "source": [
        "plt.scatter(FILE[\"Annual Income (k$)\"],FILE[\"Spending Score (1-100)\"])\n",
        "plt.show()"
      ],
      "metadata": {
        "colab": {
          "base_uri": "https://localhost:8080/",
          "height": 265
        },
        "id": "U2faItmpNd3Q",
        "outputId": "9cff0f5b-870e-43dd-adcf-9cca4017a85a"
      },
      "execution_count": null,
      "outputs": [
        {
          "output_type": "display_data",
          "data": {
            "text/plain": [
              "<Figure size 432x288 with 1 Axes>"
            ],
            "image/png": "[encoded data removed]"
          },
          "metadata": {
            "needs_background": "light"
          }
        }
      ]
    },
    {
      "cell_type": "code",
      "source": [
        "n=len(FILE[\"Annual Income (k$)\"])\n",
        "distance_matrix = np.zeros((n,n))\n"
      ],
      "metadata": {
        "id": "FOwUF7CrQHwr"
      },
      "execution_count": null,
      "outputs": []
    },
    {
      "cell_type": "markdown",
      "source": [
        "#CALCULATING DISTANCE AND STORE IT INTO MATRIX FORM:"
      ],
      "metadata": {
        "id": "Zsp1ViAnUCNM"
      }
    },
    {
      "cell_type": "code",
      "source": [
        "for i in range(0,n):\n",
        "    for j in range(i, n):\n",
        "        distance_matrix[i,j] = dist(X[i], X[j])\n",
        "        distance_matrix[j,i] = distance_matrix[i,j] \n",
        "distance_matrix\n"
      ],
      "metadata": {
        "colab": {
          "base_uri": "https://localhost:8080/"
        },
        "id": "O8_biFdPQz_M",
        "outputId": "c2307efe-075f-4aab-ecdd-317bcb3aced6"
      },
      "execution_count": null,
      "outputs": [
        {
          "output_type": "execute_result",
          "data": {
            "text/plain": [
              "array([[  0.        ,  42.        ,  33.01514804, ..., 116.38728453,\n",
              "        123.79418403, 129.69194269],\n",
              "       [ 42.        ,   0.        ,  75.00666637, ..., 111.22050171,\n",
              "        137.3062271 , 122.01639234],\n",
              "       [ 33.01514804,  75.00666637,   0.        , ..., 129.32130528,\n",
              "        121.59358536, 143.42245291],\n",
              "       ...,\n",
              "       [116.38728453, 111.22050171, 129.32130528, ...,   0.        ,\n",
              "         57.07013229,  14.2126704 ],\n",
              "       [123.79418403, 137.3062271 , 121.59358536, ...,  57.07013229,\n",
              "          0.        ,  65.        ],\n",
              "       [129.69194269, 122.01639234, 143.42245291, ...,  14.2126704 ,\n",
              "         65.        ,   0.        ]])"
            ]
          },
          "metadata": {},
          "execution_count": 7
        }
      ]
    },
    {
      "cell_type": "markdown",
      "source": [
        "#SINGLE METHOD:"
      ],
      "metadata": {
        "id": "hGBGwOmgfvh-"
      }
    },
    {
      "cell_type": "code",
      "source": [
        "single_clustering = linkage(distance_matrix, method=\"single\")\n",
        "dendrogram(single_clustering)\n",
        "plt.show()"
      ],
      "metadata": {
        "colab": {
          "base_uri": "https://localhost:8080/",
          "height": 300
        },
        "id": "2A9_r4gzR0bF",
        "outputId": "86e7e284-e97e-4aa0-d5cf-5e163fe1dfd4"
      },
      "execution_count": null,
      "outputs": [
        {
          "output_type": "stream",
          "name": "stderr",
          "text": [
            "<ipython-input-16-9631bf95bce2>:1: ClusterWarning: scipy.cluster: The symmetric non-negative hollow observation matrix looks suspiciously like an uncondensed distance matrix\n",
            "  single_clustering = linkage(distance_matrix, method=\"single\")\n"
          ]
        },
        {
          "output_type": "display_data",
          "data": {
            "text/plain": [
              "<Figure size 432x288 with 1 Axes>"
            ],
            "image/png": "[encoded data removed]"
          },
          "metadata": {
            "needs_background": "light"
          }
        }
      ]
    },
    {
      "cell_type": "markdown",
      "source": [
        "#Ward’s Method:"
      ],
      "metadata": {
        "id": "hdLSDkb1fE1u"
      }
    },
    {
      "cell_type": "code",
      "source": [
        "single_clustering = linkage(distance_matrix, method=\"ward\")\n",
        "dendrogram(single_clustering)\n",
        "plt.show()"
      ],
      "metadata": {
        "id": "HElyKiBee7Jn",
        "outputId": "9e37e4a8-19fc-49c9-d203-ddc5343726c1",
        "colab": {
          "base_uri": "https://localhost:8080/",
          "height": 300
        }
      },
      "execution_count": null,
      "outputs": [
        {
          "output_type": "stream",
          "name": "stderr",
          "text": [
            "<ipython-input-17-5deb56ef122a>:1: ClusterWarning: scipy.cluster: The symmetric non-negative hollow observation matrix looks suspiciously like an uncondensed distance matrix\n",
            "  single_clustering = linkage(distance_matrix, method=\"ward\")\n"
          ]
        },
        {
          "output_type": "display_data",
          "data": {
            "text/plain": [
              "<Figure size 432x288 with 1 Axes>"
            ],
            "image/png": "[encoded data removed]"
          },
          "metadata": {
            "needs_background": "light"
          }
        }
      ]
    },
    {
      "cell_type": "markdown",
      "source": [
        "#Complete Method:"
      ],
      "metadata": {
        "id": "1N78kgt6fT_r"
      }
    },
    {
      "cell_type": "code",
      "source": [
        "single_clustering = linkage(distance_matrix, method=\"complete\")\n",
        "dendrogram(single_clustering)\n",
        "plt.show()\n",
        "single_clustering\n"
      ],
      "metadata": {
        "id": "CIgB5a1de_qd",
        "outputId": "193cd965-3531-42d1-e1a7-af4a3557b687",
        "colab": {
          "base_uri": "https://localhost:8080/",
          "height": 1000
        }
      },
      "execution_count": null,
      "outputs": [
        {
          "output_type": "stream",
          "name": "stderr",
          "text": [
            "<ipython-input-18-577ff1c8771b>:1: ClusterWarning: scipy.cluster: The symmetric non-negative hollow observation matrix looks suspiciously like an uncondensed distance matrix\n",
            "  single_clustering = linkage(distance_matrix, method=\"complete\")\n"
          ]
        },
        {
          "output_type": "display_data",
          "data": {
            "text/plain": [
              "<Figure size 432x288 with 1 Axes>"
            ],
            "image/png": "[encoded data removed]"
          },
          "metadata": {
            "needs_background": "light"
          }
        },
        {
          "output_type": "execute_result",
          "data": {
            "text/plain": [
              "array([[ 65.        ,  68.        ,   0.        ,   2.        ],\n",
              "       [ 48.        ,  49.        ,   0.        ,   2.        ],\n",
              "       [156.        , 158.        ,   0.        ,   2.        ],\n",
              "       [129.        , 131.        ,   0.        ,   2.        ],\n",
              "       [ 10.        ,  14.        ,   8.67079018,   2.        ],\n",
              "       [ 64.        ,  66.        ,   9.47470919,   2.        ],\n",
              "       [170.        , 174.        ,   9.5105562 ,   2.        ],\n",
              "       [ 67.        ,  69.        ,   9.51167573,   2.        ],\n",
              "       [ 60.        ,  61.        ,   9.59839789,   2.        ],\n",
              "       [ 78.        ,  80.        ,   9.72826138,   2.        ],\n",
              "       [ 74.        ,  77.        ,   9.73165637,   2.        ],\n",
              "       [ 75.        ,  76.        ,   9.78744194,   2.        ],\n",
              "       [ 98.        , 105.        ,   9.83930963,   2.        ],\n",
              "       [ 92.        ,  97.        ,   9.92856017,   2.        ],\n",
              "       [119.        , 120.        ,   9.95475887,   2.        ],\n",
              "       [107.        , 113.        ,   9.98357222,   2.        ],\n",
              "       [101.        , 109.        ,  10.07092179,   2.        ],\n",
              "       [103.        , 104.        ,  10.14436854,   2.        ],\n",
              "       [ 79.        ,  82.        ,  10.14528329,   2.        ],\n",
              "       [ 63.        , 200.        ,  10.15292393,   3.        ],\n",
              "       [ 51.        ,  53.        ,  10.41705217,   2.        ],\n",
              "       [ 26.        ,  28.        ,  10.74265085,   2.        ],\n",
              "       [147.        , 159.        ,  10.85688698,   2.        ],\n",
              "       [ 21.        ,  23.        ,  10.89752739,   2.        ],\n",
              "       [137.        , 139.        ,  11.03167144,   2.        ],\n",
              "       [150.        , 154.        ,  11.14809411,   2.        ],\n",
              "       [151.        , 155.        ,  11.36113108,   2.        ],\n",
              "       [112.        , 116.        ,  12.66227994,   2.        ],\n",
              "       [ 91.        ,  94.        ,  13.46042214,   2.        ],\n",
              "       [ 70.        ,  73.        ,  13.47016276,   2.        ],\n",
              "       [ 58.        ,  62.        ,  13.85687867,   2.        ],\n",
              "       [ 99.        , 213.        ,  14.44601359,   3.        ],\n",
              "       [100.        , 212.        ,  15.14497423,   3.        ],\n",
              "       [ 54.        ,  57.        ,  15.26008096,   2.        ],\n",
              "       [134.        , 140.        ,  15.36907299,   2.        ],\n",
              "       [ 40.        ,  42.        ,  16.61088459,   2.        ],\n",
              "       [126.        , 132.        ,  16.65678366,   2.        ],\n",
              "       [  3.        ,   5.        ,  17.607714  ,   2.        ],\n",
              "       [ 13.        ,  15.        ,  18.29412321,   2.        ],\n",
              "       [164.        , 168.        ,  18.47907486,   2.        ],\n",
              "       [ 85.        , 210.        ,  19.39323325,   3.        ],\n",
              "       [ 81.        , 211.        ,  19.49598434,   3.        ],\n",
              "       [  2.        ,   6.        ,  19.66088026,   2.        ],\n",
              "       [114.        , 115.        ,  19.67195196,   2.        ],\n",
              "       [108.        , 227.        ,  19.87185067,   3.        ],\n",
              "       [ 12.        , 204.        ,  19.87735298,   3.        ],\n",
              "       [106.        , 110.        ,  20.0301655 ,   2.        ],\n",
              "       [ 87.        ,  90.        ,  20.23903184,   2.        ],\n",
              "       [ 50.        ,  52.        ,  20.37402874,   2.        ],\n",
              "       [ 93.        , 228.        ,  20.56258659,   3.        ],\n",
              "       [165.        , 171.        ,  20.57168755,   2.        ],\n",
              "       [125.        , 203.        ,  20.69943407,   3.        ],\n",
              "       [176.        , 206.        ,  20.82749249,   3.        ],\n",
              "       [153.        , 157.        ,  21.36296651,   2.        ],\n",
              "       [111.        , 217.        ,  21.44281563,   3.        ],\n",
              "       [148.        , 152.        ,  21.82084274,   2.        ],\n",
              "       [ 89.        ,  96.        ,  21.99872068,   2.        ],\n",
              "       [149.        , 226.        ,  22.68399559,   3.        ],\n",
              "       [130.        , 138.        ,  23.13351848,   2.        ],\n",
              "       [205.        , 230.        ,  23.32178819,   4.        ],\n",
              "       [ 86.        ,  88.        ,  23.37642178,   2.        ],\n",
              "       [135.        , 143.        ,  23.39922945,   2.        ],\n",
              "       [ 30.        ,  32.        ,  25.61319927,   2.        ],\n",
              "       [  8.        , 242.        ,  25.84008443,   3.        ],\n",
              "       [146.        , 160.        ,  25.88153048,   2.        ],\n",
              "       [133.        , 224.        ,  26.4864397 ,   3.        ],\n",
              "       [181.        , 183.        ,  26.66119131,   2.        ],\n",
              "       [  0.        ,   4.        ,  27.07151503,   2.        ],\n",
              "       [187.        , 191.        ,  27.26086304,   2.        ],\n",
              "       [ 37.        ,  39.        ,  27.68221795,   2.        ],\n",
              "       [186.        , 190.        ,  27.79160572,   2.        ],\n",
              "       [ 72.        , 207.        ,  28.51978653,   3.        ],\n",
              "       [167.        , 173.        ,  29.02602604,   2.        ],\n",
              "       [102.        , 117.        ,  29.15780445,   2.        ],\n",
              "       [215.        , 216.        ,  29.52085915,   4.        ],\n",
              "       [232.        , 249.        ,  29.62475358,   6.        ],\n",
              "       [118.        , 121.        ,  29.83887314,   2.        ],\n",
              "       [128.        , 258.        ,  30.00365671,   3.        ],\n",
              "       [ 83.        , 218.        ,  30.0132342 ,   3.        ],\n",
              "       [ 55.        , 201.        ,  30.4653355 ,   3.        ],\n",
              "       [122.        , 214.        ,  31.43111228,   3.        ],\n",
              "       [ 95.        , 231.        ,  31.59061828,   4.        ],\n",
              "       [136.        , 234.        ,  32.4378098 ,   3.        ],\n",
              "       [127.        , 141.        ,  32.86399836,   2.        ],\n",
              "       [ 38.        ,  44.        ,  33.69358531,   2.        ],\n",
              "       [ 16.        ,  20.        ,  34.28095903,   2.        ],\n",
              "       [ 59.        , 233.        ,  34.37189857,   3.        ],\n",
              "       [  7.        ,  19.        ,  36.30755374,   2.        ],\n",
              "       [ 46.        , 248.        ,  36.69410197,   3.        ],\n",
              "       [ 34.        ,  36.        ,  37.97676803,   2.        ],\n",
              "       [209.        , 241.        ,  38.45778312,   5.        ],\n",
              "       [ 43.        ,  45.        ,  38.47452046,   2.        ],\n",
              "       [208.        , 219.        ,  40.95349726,   5.        ],\n",
              "       [246.        , 281.        ,  41.87977711,   6.        ],\n",
              "       [179.        , 266.        ,  42.18427614,   3.        ],\n",
              "       [162.        , 202.        ,  42.55935743,   3.        ],\n",
              "       [243.        , 274.        ,  42.8763745 ,   6.        ],\n",
              "       [ 33.        ,  41.        ,  42.95858463,   2.        ],\n",
              "       [145.        , 163.        ,  43.08651471,   2.        ],\n",
              "       [ 56.        , 259.        ,  43.12391932,   5.        ],\n",
              "       [237.        , 238.        ,  44.21314946,   4.        ],\n",
              "       [229.        , 292.        ,  46.34041462,   7.        ],\n",
              "       [182.        , 188.        ,  46.37631037,   2.        ],\n",
              "       [ 11.        , 287.        ,  46.7792597 ,   3.        ],\n",
              "       [ 25.        ,  29.        ,  47.82972891,   2.        ],\n",
              "       [172.        , 252.        ,  48.39717077,   4.        ],\n",
              "       [144.        , 277.        ,  48.96381506,   4.        ],\n",
              "       [ 84.        , 260.        ,  50.12967836,   3.        ],\n",
              "       [222.        , 253.        ,  52.33886038,   4.        ],\n",
              "       [247.        , 307.        ,  53.32478648,   5.        ],\n",
              "       [177.        , 250.        ,  53.57286745,   3.        ],\n",
              "       [257.        , 261.        ,  54.5108126 ,   5.        ],\n",
              "       [244.        , 276.        ,  54.972991  ,   5.        ],\n",
              "       [ 71.        , 278.        ,  55.2292564 ,   4.        ],\n",
              "       [178.        , 305.        ,  55.53754256,   5.        ],\n",
              "       [180.        , 184.        ,  56.16777017,   2.        ],\n",
              "       [ 17.        , 223.        ,  56.66329177,   3.        ],\n",
              "       [254.        , 273.        ,  57.07450082,   5.        ],\n",
              "       [ 47.        , 279.        ,  57.59060509,   4.        ],\n",
              "       [ 18.        , 285.        ,  58.06656745,   3.        ],\n",
              "       [142.        , 236.        ,  58.44054042,   3.        ],\n",
              "       [123.        , 283.        ,  58.92795184,   3.        ],\n",
              "       [251.        , 265.        ,  60.09273478,   6.        ],\n",
              "       [192.        , 194.        ,  60.64526704,   2.        ],\n",
              "       [240.        , 256.        ,  62.1752782 ,   5.        ],\n",
              "       [195.        , 197.        ,  62.97211069,   2.        ],\n",
              "       [271.        , 299.        ,  63.29581518,   8.        ],\n",
              "       [ 31.        , 269.        ,  63.56921791,   3.        ],\n",
              "       [ 22.        , 262.        ,  63.85899147,   3.        ],\n",
              "       [  9.        , 316.        ,  64.21186663,   4.        ],\n",
              "       [225.        , 255.        ,  65.67333496,   4.        ],\n",
              "       [166.        , 239.        ,  65.74056609,   3.        ],\n",
              "       [293.        , 296.        ,  71.72284509,  12.        ],\n",
              "       [272.        , 298.        ,  72.84035521,   4.        ],\n",
              "       [220.        , 288.        ,  73.1991324 ,   5.        ],\n",
              "       [161.        , 311.        ,  74.61546063,   6.        ],\n",
              "       [270.        , 302.        ,  75.12814581,   4.        ],\n",
              "       [ 24.        , 289.        ,  77.82102745,   3.        ],\n",
              "       [275.        , 312.        ,  78.60511078,  11.        ],\n",
              "       [286.        , 318.        ,  79.29161209,   7.        ],\n",
              "       [264.        , 320.        ,  79.73323855,   5.        ],\n",
              "       [221.        , 319.        ,  80.40570477,   5.        ],\n",
              "       [280.        , 317.        ,  80.51817207,   8.        ],\n",
              "       [  1.        , 300.        ,  80.96247092,   5.        ],\n",
              "       [189.        , 294.        ,  84.24205788,   4.        ],\n",
              "       [282.        , 306.        ,  85.50714286,   7.        ],\n",
              "       [ 35.        , 327.        ,  86.64114795,   4.        ],\n",
              "       [290.        , 309.        ,  95.34783592,  10.        ],\n",
              "       [297.        , 304.        , 101.45206042,   4.        ],\n",
              "       [301.        , 334.        , 101.71092953,  12.        ],\n",
              "       [124.        , 340.        , 102.92054302,   6.        ],\n",
              "       [308.        , 310.        , 103.52561751,   7.        ],\n",
              "       [245.        , 328.        , 104.97553059,   6.        ],\n",
              "       [330.        , 331.        , 105.91346386,   7.        ],\n",
              "       [175.        , 333.        , 107.84364491,   5.        ],\n",
              "       [235.        , 284.        , 110.15537467,   4.        ],\n",
              "       [324.        , 332.        , 110.97804416,  17.        ],\n",
              "       [185.        , 193.        , 114.1610003 ,   2.        ],\n",
              "       [ 27.        , 291.        , 120.71869696,   3.        ],\n",
              "       [321.        , 335.        , 124.8628314 ,   9.        ],\n",
              "       [313.        , 326.        , 125.81552247,  12.        ],\n",
              "       [196.        , 323.        , 131.69801528,   3.        ],\n",
              "       [295.        , 314.        , 135.58996151,   8.        ],\n",
              "       [169.        , 351.        , 136.43307396,   8.        ],\n",
              "       [263.        , 352.        , 139.43075077,   9.        ],\n",
              "       [347.        , 356.        , 141.12697674,  27.        ],\n",
              "       [339.        , 360.        , 144.42493603,  19.        ],\n",
              "       [267.        , 341.        , 145.79064446,   7.        ],\n",
              "       [322.        , 363.        , 165.00264221,  14.        ],\n",
              "       [268.        , 344.        , 168.14108863,   6.        ],\n",
              "       [354.        , 359.        , 169.92176379,  14.        ],\n",
              "       [329.        , 343.        , 170.34306451,   9.        ],\n",
              "       [345.        , 362.        , 175.20633623,  15.        ],\n",
              "       [342.        , 365.        , 180.91827685,  35.        ],\n",
              "       [338.        , 373.        , 198.39063285,  46.        ],\n",
              "       [349.        , 366.        , 202.1721576 ,  31.        ],\n",
              "       [346.        , 348.        , 202.81263657,   8.        ],\n",
              "       [337.        , 367.        , 204.06772553,  10.        ],\n",
              "       [315.        , 336.        , 204.1401555 ,   6.        ],\n",
              "       [199.        , 325.        , 228.01561387,   3.        ],\n",
              "       [198.        , 361.        , 237.55684237,   4.        ],\n",
              "       [353.        , 372.        , 242.54412873,  22.        ],\n",
              "       [371.        , 376.        , 256.76118705,  17.        ],\n",
              "       [369.        , 370.        , 266.60420541,  20.        ],\n",
              "       [374.        , 375.        , 283.77126875,  77.        ],\n",
              "       [355.        , 377.        , 287.00185979,  14.        ],\n",
              "       [378.        , 381.        , 297.91366742,  28.        ],\n",
              "       [357.        , 379.        , 353.81440658,   5.        ],\n",
              "       [303.        , 382.        , 367.85949474,  20.        ],\n",
              "       [350.        , 384.        , 373.74597752,  83.        ],\n",
              "       [368.        , 383.        , 384.795905  ,  34.        ],\n",
              "       [358.        , 385.        , 435.61111074,  17.        ],\n",
              "       [389.        , 391.        , 525.55609248, 100.        ],\n",
              "       [380.        , 387.        , 544.20422383,   9.        ],\n",
              "       [364.        , 388.        , 562.94768675,  29.        ],\n",
              "       [386.        , 390.        , 616.63904632,  62.        ],\n",
              "       [392.        , 395.        , 650.81476997, 162.        ],\n",
              "       [394.        , 396.        , 689.54911871, 191.        ],\n",
              "       [393.        , 397.        , 940.25235475, 200.        ]])"
            ]
          },
          "metadata": {},
          "execution_count": 18
        }
      ]
    },
    {
      "cell_type": "markdown",
      "source": [
        "#AVERAGE METHOD:"
      ],
      "metadata": {
        "id": "vxl_ejuBfhwr"
      }
    },
    {
      "cell_type": "code",
      "source": [
        "single_clustering = linkage(distance_matrix, method=\"average\")\n",
        "dendrogram(single_clustering)\n",
        "plt.show()\n",
        "\n"
      ],
      "metadata": {
        "id": "plWwxqL8fYz9",
        "outputId": "6574d0bd-8603-4e2f-8f83-a0d845744f53",
        "colab": {
          "base_uri": "https://localhost:8080/",
          "height": 304
        }
      },
      "execution_count": null,
      "outputs": [
        {
          "output_type": "stream",
          "name": "stderr",
          "text": [
            "<ipython-input-19-4010e089c4b2>:1: ClusterWarning: scipy.cluster: The symmetric non-negative hollow observation matrix looks suspiciously like an uncondensed distance matrix\n",
            "  single_clustering = linkage(distance_matrix, method=\"average\")\n"
          ]
        },
        {
          "output_type": "display_data",
          "data": {
            "text/plain": [
              "<Figure size 432x288 with 1 Axes>"
            ],
            "image/png": "[encoded data removed]"
          },
          "metadata": {
            "needs_background": "light"
          }
        }
      ]
    }
  ]
}