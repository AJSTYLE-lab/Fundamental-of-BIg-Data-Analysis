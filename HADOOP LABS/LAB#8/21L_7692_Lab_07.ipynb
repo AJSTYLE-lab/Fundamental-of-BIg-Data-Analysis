{
  "cells": [
    {
      "cell_type": "markdown",
      "metadata": {
        "id": "view-in-github",
        "colab_type": "text"
      },
      "source": [
        "<a href=\"https://colab.research.google.com/github/AJSTYLE-lab/Fundamental-of-BIg-Data-Analysis/blob/main/HADOOP%20LABS/LAB%238/21L_7692_Lab_07.ipynb\" target=\"_parent\"><img src=\"https://colab.research.google.com/assets/colab-badge.svg\" alt=\"Open In Colab\"/></a>"
      ]
    },
    {
      "cell_type": "code",
      "execution_count": null,
      "id": "d9d9e76d",
      "metadata": {
        "colab": {
          "base_uri": "https://localhost:8080/"
        },
        "id": "d9d9e76d",
        "outputId": "356e582f-e715-42f5-f341-853ac376c5a6"
      },
      "outputs": [
        {
          "output_type": "stream",
          "name": "stdout",
          "text": [
            "Looking in indexes: https://pypi.org/simple, https://us-python.pkg.dev/colab-wheels/public/simple/\n",
            "Requirement already satisfied: mrjob in /usr/local/lib/python3.9/dist-packages (0.7.4)\n",
            "Requirement already satisfied: PyYAML>=3.10 in /usr/local/lib/python3.9/dist-packages (from mrjob) (6.0)\n"
          ]
        }
      ],
      "source": [
        "! pip install mrjob"
      ]
    },
    {
      "cell_type": "markdown",
      "id": "3738014e",
      "metadata": {
        "id": "3738014e"
      },
      "source": [
        "### Task 1"
      ]
    },
    {
      "cell_type": "code",
      "execution_count": null,
      "id": "8b2deb26",
      "metadata": {
        "colab": {
          "base_uri": "https://localhost:8080/"
        },
        "id": "8b2deb26",
        "outputId": "72592759-20d6-493d-ff73-600ab134cff0"
      },
      "outputs": [
        {
          "output_type": "stream",
          "name": "stdout",
          "text": [
            "Overwriting question1.py\n"
          ]
        }
      ],
      "source": [
        "%%writefile question1.py\n",
        "\n",
        "from mrjob.job import MRJob\n",
        "\n",
        "class SONGS_COUNT(MRJob):\n",
        "    def mapper(self, _, row):\n",
        "        R= row.replace(',', ' ')\n",
        "        WORDS = R.split()\n",
        "        if len(WORDS) >= 7:\n",
        "            yield WORDS[0],1\n",
        "if __name__ == '__main__':\n",
        "    SONGS_COUNT.run()"
      ]
    },
    {
      "cell_type": "markdown",
      "id": "40f8fcdd",
      "metadata": {
        "id": "40f8fcdd"
      },
      "source": [
        "### Task 1 Output"
      ]
    },
    {
      "cell_type": "code",
      "execution_count": null,
      "id": "88352d82",
      "metadata": {
        "colab": {
          "base_uri": "https://localhost:8080/"
        },
        "id": "88352d82",
        "outputId": "4cdca235-dbf9-4b3b-d656-1a55bbdcc46e"
      },
      "outputs": [
        {
          "output_type": "stream",
          "name": "stdout",
          "text": [
            "No configs found; falling back on auto-configuration\n",
            "No configs specified for inline runner\n",
            "Creating temp directory /tmp/question1.root.20230401.110723.087176\n",
            "Running step 1 of 1...\n",
            "job output is in /tmp/question1.root.20230401.110723.087176/output\n",
            "Streaming final output from /tmp/question1.root.20230401.110723.087176/output...\n",
            "Removing temp directory /tmp/question1.root.20230401.110723.087176...\n"
          ]
        }
      ],
      "source": [
        "! python question1.py data.txt"
      ]
    },
    {
      "cell_type": "markdown",
      "id": "3361b262",
      "metadata": {
        "id": "3361b262"
      },
      "source": [
        "### Task 2"
      ]
    },
    {
      "cell_type": "code",
      "execution_count": null,
      "id": "d081d960",
      "metadata": {
        "colab": {
          "base_uri": "https://localhost:8080/"
        },
        "id": "d081d960",
        "outputId": "203374de-691a-4954-e63c-9c5b8b343b7a"
      },
      "outputs": [
        {
          "output_type": "stream",
          "name": "stdout",
          "text": [
            "Overwriting question2.py\n"
          ]
        }
      ],
      "source": [
        "%%writefile question2.py\n",
        "from mrjob.job import MRJob\n",
        "class SONGS_PLAYED(MRJob):\n",
        "    def mapper(self, _, row):\n",
        "        R = row.replace(',', ' ')\n",
        "        WORDS = R.split()\n",
        "        yield f\"{WORDS[0]} {WORDS[1]}\", len(WORDS[2:])\n",
        "if __name__ == '__main__':\n",
        "    SONGS_PLAYED.run()\n"
      ]
    },
    {
      "cell_type": "markdown",
      "id": "ccfe51f2",
      "metadata": {
        "id": "ccfe51f2"
      },
      "source": [
        "### Task 2 Output"
      ]
    },
    {
      "cell_type": "code",
      "execution_count": null,
      "id": "2f9a67b9",
      "metadata": {
        "colab": {
          "base_uri": "https://localhost:8080/"
        },
        "id": "2f9a67b9",
        "outputId": "6dbed47b-e115-4ad0-d9d2-7f51dd115f07"
      },
      "outputs": [
        {
          "output_type": "stream",
          "name": "stdout",
          "text": [
            "No configs found; falling back on auto-configuration\n",
            "No configs specified for inline runner\n",
            "Creating temp directory /tmp/question2.root.20230401.110741.329685\n",
            "Running step 1 of 1...\n",
            "job output is in /tmp/question2.root.20230401.110741.329685/output\n",
            "Streaming final output from /tmp/question2.root.20230401.110741.329685/output...\n",
            "\"Sara 20-4-22\"\t3\n",
            "\"Amina 20-4-22\"\t1\n",
            "\"Fahad 14-04-22\"\t4\n",
            "\"Ali 20-4-22\"\t2\n",
            "\"Username Date\"\t4\n",
            "\"Ali 12-3-20\"\t3\n",
            "Removing temp directory /tmp/question2.root.20230401.110741.329685...\n"
          ]
        }
      ],
      "source": [
        "! python question2.py data.txt"
      ]
    },
    {
      "cell_type": "markdown",
      "id": "2fa798a7",
      "metadata": {
        "id": "2fa798a7"
      },
      "source": [
        "### Task 3"
      ]
    },
    {
      "cell_type": "code",
      "execution_count": null,
      "id": "89145878",
      "metadata": {
        "colab": {
          "base_uri": "https://localhost:8080/"
        },
        "id": "89145878",
        "outputId": "6f97db36-ca09-4728-e6ff-5e260b295855"
      },
      "outputs": [
        {
          "output_type": "stream",
          "name": "stdout",
          "text": [
            "Overwriting question3.py\n"
          ]
        }
      ],
      "source": [
        "%%writefile question3.py\n",
        "from mrjob.job import MRJob\n",
        "\n",
        "class question3(MRJob):\n",
        "    def mapper(self,_,row):\n",
        "        R= row.replace(',', ' ')\n",
        "        WORDS = R.split()\n",
        "        yield WORDS[0], len(WORDS[2:])\n",
        "    def combiner(self, USER, PLAYED):\n",
        "        yield USER, sum(PLAYED)\n",
        "    def reducer(self, USER, PLAYED):\n",
        "        yield USER, sum(PLAYED)\n",
        "if __name__ == '__main__':\n",
        "    question3.run()"
      ]
    },
    {
      "cell_type": "markdown",
      "id": "502fbe27",
      "metadata": {
        "id": "502fbe27"
      },
      "source": [
        "### Task 3 Output"
      ]
    },
    {
      "cell_type": "code",
      "execution_count": null,
      "id": "414d658b",
      "metadata": {
        "colab": {
          "base_uri": "https://localhost:8080/"
        },
        "id": "414d658b",
        "outputId": "6315b7b0-6f64-45aa-fd10-561e53d95ebf"
      },
      "outputs": [
        {
          "output_type": "stream",
          "name": "stdout",
          "text": [
            "No configs found; falling back on auto-configuration\n",
            "No configs specified for inline runner\n",
            "Creating temp directory /tmp/question3.root.20230401.110824.249458\n",
            "Running step 1 of 1...\n",
            "job output is in /tmp/question3.root.20230401.110824.249458/output\n",
            "Streaming final output from /tmp/question3.root.20230401.110824.249458/output...\n",
            "\"Sara\"\t3\n",
            "\"Username\"\t4\n",
            "\"Amina\"\t1\n",
            "\"Fahad\"\t4\n",
            "\"Ali\"\t5\n",
            "Removing temp directory /tmp/question3.root.20230401.110824.249458...\n"
          ]
        }
      ],
      "source": [
        "! python question3.py data.txt"
      ]
    },
    {
      "cell_type": "markdown",
      "id": "e3ed0602",
      "metadata": {
        "id": "e3ed0602"
      },
      "source": [
        "### Task 4"
      ]
    },
    {
      "cell_type": "code",
      "execution_count": null,
      "id": "22a2f61d",
      "metadata": {
        "colab": {
          "base_uri": "https://localhost:8080/"
        },
        "id": "22a2f61d",
        "outputId": "e0a41d71-5a1c-4136-b0f4-c7a82c1548cb"
      },
      "outputs": [
        {
          "output_type": "stream",
          "name": "stdout",
          "text": [
            "Overwriting question4.py\n"
          ]
        }
      ],
      "source": [
        "%%file question4.py\n",
        "from mrjob.job import MRJob\n",
        "from mrjob.step import MRStep\n",
        "class SongsAverage(MRJob):\n",
        "    def mapper(self,_,row):\n",
        "        r = row.replace(',', ' ')\n",
        "        w = r.split()\n",
        "        yield w[1],len(w[2:])\n",
        "    \n",
        "    def combiner(self, dates, played):\n",
        "        yield dates,sum(played)\n",
        "    \n",
        "    def reducer(self, dates, played):\n",
        "        yield None,(dates, sum(played))\n",
        "    \n",
        "    def average_reducer(self, _, played):\n",
        "        s,length= 0,0\n",
        "        for date, itr in played:\n",
        "            s += itr\n",
        "            length=length+ 1\n",
        "        yield \"AVG= \", s/length\n",
        "    def steps(self):\n",
        "        return [MRStep(mapper=self.mapper,\n",
        "                       combiner=self.combiner,\n",
        "                       reducer=self.reducer),\n",
        "                MRStep(reducer=self.average_reducer)]\n",
        "if __name__ == '__main__':\n",
        "    SongsAverage.run()"
      ]
    },
    {
      "cell_type": "markdown",
      "id": "1b4ec0ea",
      "metadata": {
        "id": "1b4ec0ea"
      },
      "source": [
        "### Task 4 Output"
      ]
    },
    {
      "cell_type": "code",
      "execution_count": null,
      "id": "aad152ac",
      "metadata": {
        "colab": {
          "base_uri": "https://localhost:8080/"
        },
        "id": "aad152ac",
        "outputId": "92714f49-85c0-4fa1-8fda-6e228b6c7779"
      },
      "outputs": [
        {
          "output_type": "stream",
          "name": "stdout",
          "text": [
            "No configs found; falling back on auto-configuration\n",
            "No configs specified for inline runner\n",
            "Creating temp directory /tmp/question4.root.20230401.111040.578216\n",
            "Running step 1 of 2...\n",
            "Running step 2 of 2...\n",
            "job output is in /tmp/question4.root.20230401.111040.578216/output\n",
            "Streaming final output from /tmp/question4.root.20230401.111040.578216/output...\n",
            "\"AVG= \"\t4.25\n",
            "Removing temp directory /tmp/question4.root.20230401.111040.578216...\n"
          ]
        }
      ],
      "source": [
        "! python question4.py data.txt"
      ]
    },
    {
      "cell_type": "markdown",
      "id": "8d871a46",
      "metadata": {
        "id": "8d871a46"
      },
      "source": [
        "### Task 5"
      ]
    },
    {
      "cell_type": "code",
      "execution_count": null,
      "id": "3a3692d9",
      "metadata": {
        "colab": {
          "base_uri": "https://localhost:8080/"
        },
        "id": "3a3692d9",
        "outputId": "e5954ad4-0639-4648-d282-e30099cadd3c"
      },
      "outputs": [
        {
          "output_type": "stream",
          "name": "stdout",
          "text": [
            "Overwriting question5.py\n"
          ]
        }
      ],
      "source": [
        "%%writefile question5.py\n",
        "from mrjob.job import MRJob\n",
        "class question5(MRJob):\n",
        "    def mapper(self,_,row):\n",
        "        R= row.replace(',', ' ')\n",
        "        w= R.split()\n",
        "        for song in w[2:]:\n",
        "            yield song,1\n",
        "    def combiner(self, song, played):\n",
        "        yield song, sum(played)\n",
        "    \n",
        "    def reducer(self, song, played):\n",
        "        yield song, sum(played)\n",
        "\n",
        "if __name__ == '__main__':\n",
        "    question5.run()"
      ]
    },
    {
      "cell_type": "markdown",
      "id": "ef29993e",
      "metadata": {
        "id": "ef29993e"
      },
      "source": [
        "### Task 5 Output"
      ]
    },
    {
      "cell_type": "code",
      "execution_count": null,
      "id": "14bad10d",
      "metadata": {
        "colab": {
          "base_uri": "https://localhost:8080/"
        },
        "id": "14bad10d",
        "outputId": "f2145c32-bb57-48b9-a332-b7db6989dfca"
      },
      "outputs": [
        {
          "output_type": "stream",
          "name": "stdout",
          "text": [
            "No configs found; falling back on auto-configuration\n",
            "No configs specified for inline runner\n",
            "Creating temp directory /tmp/question5.root.20230401.110623.964839\n",
            "Running step 1 of 1...\n",
            "job output is in /tmp/question5.root.20230401.110623.964839/output\n",
            "Streaming final output from /tmp/question5.root.20230401.110623.964839/output...\n",
            "\"S7\"\t2\n",
            "\"S9\"\t1\n",
            "\"list\"\t1\n",
            "\"S2\"\t3\n",
            "\"S3\"\t2\n",
            "\"of\"\t1\n",
            "\"song\"\t1\n",
            "\"IDs\"\t1\n",
            "\"S1\"\t5\n",
            "Removing temp directory /tmp/question5.root.20230401.110623.964839...\n"
          ]
        }
      ],
      "source": [
        "! python question5.py data.txt"
      ]
    },
    {
      "cell_type": "markdown",
      "id": "3d769436",
      "metadata": {
        "id": "3d769436"
      },
      "source": [
        "### Task 6"
      ]
    },
    {
      "cell_type": "code",
      "execution_count": null,
      "id": "00d7c53b",
      "metadata": {
        "colab": {
          "base_uri": "https://localhost:8080/"
        },
        "id": "00d7c53b",
        "outputId": "10e3b4b5-3d23-4900-de4a-dfa53532ce0c"
      },
      "outputs": [
        {
          "output_type": "stream",
          "name": "stdout",
          "text": [
            "Overwriting question6.py\n"
          ]
        }
      ],
      "source": [
        "%%writefile question6.py\n",
        "from mrjob.job import MRJob\n",
        "\n",
        "class question6(MRJob):\n",
        "    def mapper(self, _, row):\n",
        "        r = row.replace(',', ' ')\n",
        "        w = r.split()\n",
        "        yield w[1], (w[0],len(w[2:]))\n",
        "    def combiner(self, dates, song_count):\n",
        "        max_usr, max_sngs = None, 0\n",
        "        for user, num_sngs in song_count:\n",
        "            if num_sngs >max_sngs:\n",
        "                max_usr, max_sngs = user, num_sngs\n",
        "        yield dates, (max_usr, max_sngs)\n",
        "\n",
        "    def reducer(self, dates, song_count):\n",
        "        max_usr, max_sngs = None, 0\n",
        "        for usr, num_sngs in song_count:\n",
        "            if num_sngs > max_sngs:\n",
        "                max_usr, max_sngs = usr, num_sngs\n",
        "        yield dates, max_usr\n",
        "\n",
        "if __name__ == '__main__':\n",
        "    question6.run()"
      ]
    },
    {
      "cell_type": "markdown",
      "id": "c2c0598a",
      "metadata": {
        "id": "c2c0598a"
      },
      "source": [
        "### Task 6 Output"
      ]
    },
    {
      "cell_type": "code",
      "execution_count": null,
      "id": "58be214b",
      "metadata": {
        "colab": {
          "base_uri": "https://localhost:8080/"
        },
        "id": "58be214b",
        "outputId": "02695a3f-2900-470a-add5-75283bf9636d"
      },
      "outputs": [
        {
          "output_type": "stream",
          "name": "stdout",
          "text": [
            "No configs found; falling back on auto-configuration\n",
            "No configs specified for inline runner\n",
            "Creating temp directory /tmp/question6.root.20230401.110434.471426\n",
            "Running step 1 of 1...\n",
            "job output is in /tmp/question6.root.20230401.110434.471426/output\n",
            "Streaming final output from /tmp/question6.root.20230401.110434.471426/output...\n",
            "\"Date\"\t\"Username\"\n",
            "\"20-4-22\"\t\"Sara\"\n",
            "\"12-3-20\"\t\"Ali\"\n",
            "\"14-04-22\"\t\"Fahad\"\n",
            "Removing temp directory /tmp/question6.root.20230401.110434.471426...\n"
          ]
        }
      ],
      "source": [
        "! python question6.py data.txt"
      ]
    },
    {
      "cell_type": "markdown",
      "id": "24406521",
      "metadata": {
        "id": "24406521"
      },
      "source": [
        "### Task 7"
      ]
    },
    {
      "cell_type": "code",
      "execution_count": null,
      "id": "b50f33f0",
      "metadata": {
        "colab": {
          "base_uri": "https://localhost:8080/"
        },
        "id": "b50f33f0",
        "outputId": "edcdad34-a13b-4296-80a8-9641c7fa55a7"
      },
      "outputs": [
        {
          "output_type": "stream",
          "name": "stdout",
          "text": [
            "Overwriting question7.py\n"
          ]
        }
      ],
      "source": [
        "%%writefile question7.py\n",
        "from mrjob.job import MRJob\n",
        "from mrjob.step import MRStep\n",
        "\n",
        "class USRS_MAX_SNG(MRJob):\n",
        "    def mapper(self, _, row):\n",
        "        R= row.replace(',', ' ')\n",
        "        w = R.split()\n",
        "        yield w[0], len(w[2:])\n",
        "        \n",
        "    def combiner(self, id, counts):\n",
        "        yield id, sum(counts)\n",
        "        \n",
        "    def reducer(self, id, counts):\n",
        "        yield None, (id, sum(counts))\n",
        "        \n",
        "    def Maximum_Finding(self, _, usr_counts):\n",
        "        user_max, count_max = max(usr_counts, key=lambda X: X[1])\n",
        "        yield user_max, count_max\n",
        "        \n",
        "    def steps(self):\n",
        "        return [\n",
        "            MRStep(mapper=self.mapper,\n",
        "                   combiner=self.combiner,\n",
        "                   reducer=self.reducer),\n",
        "            MRStep(reducer=self.Maximum_Finding)\n",
        "        ]\n",
        "if __name__ == '__main__':\n",
        "    USRS_MAX_SNG.run()"
      ]
    },
    {
      "cell_type": "markdown",
      "id": "57bb293e",
      "metadata": {
        "id": "57bb293e"
      },
      "source": [
        "### Task 7 Output"
      ]
    },
    {
      "cell_type": "code",
      "execution_count": null,
      "id": "f4081043",
      "metadata": {
        "colab": {
          "base_uri": "https://localhost:8080/"
        },
        "id": "f4081043",
        "outputId": "cbd9d3ba-b334-4f5a-928c-3cafbb8d0e95"
      },
      "outputs": [
        {
          "output_type": "stream",
          "name": "stdout",
          "text": [
            "No configs found; falling back on auto-configuration\n",
            "No configs specified for inline runner\n",
            "Creating temp directory /tmp/question7.root.20230401.110002.475364\n",
            "Running step 1 of 2...\n",
            "Running step 2 of 2...\n",
            "job output is in /tmp/question7.root.20230401.110002.475364/output\n",
            "Streaming final output from /tmp/question7.root.20230401.110002.475364/output...\n",
            "\"Ali\"\t5\n",
            "Removing temp directory /tmp/question7.root.20230401.110002.475364...\n"
          ]
        }
      ],
      "source": [
        "! python question7.py data.txt"
      ]
    },
    {
      "cell_type": "markdown",
      "id": "c621af0e",
      "metadata": {
        "id": "c621af0e"
      },
      "source": [
        "### Task 8"
      ]
    },
    {
      "cell_type": "code",
      "execution_count": null,
      "id": "d23f2dcf",
      "metadata": {
        "colab": {
          "base_uri": "https://localhost:8080/"
        },
        "id": "d23f2dcf",
        "outputId": "c2de80ba-4528-4548-fe8c-772633ef86d2"
      },
      "outputs": [
        {
          "output_type": "stream",
          "name": "stdout",
          "text": [
            "Overwriting question8.py\n"
          ]
        }
      ],
      "source": [
        "%%writefile question8.py\n",
        "from mrjob.job import MRJob\n",
        "\n",
        "class MAX_SNG(MRJob):\n",
        "\n",
        "    def mapper(self, _, row):\n",
        "        R = row.replace(',', ' ')\n",
        "        w = R.split()\n",
        "        yield w[1], (w[0],len(w[2:]))\n",
        "\n",
        "    def combiner(self, date, song_counts):\n",
        "        max_u, max_s = None, 0\n",
        "        for user, num_song in song_counts:\n",
        "            if num_song > max_s:\n",
        "                max_u, max_s = user, num_song\n",
        "        yield date, (max_u, max_s)\n",
        "\n",
        "    def reducer(self, date, song_counts):\n",
        "        max_us, max_songs = None, 0\n",
        "        for usr, num_song in song_counts:\n",
        "            if num_song > max_songs:\n",
        "                max_u, max_songs = usr, num_song\n",
        "        yield date, max_u\n",
        "\n",
        "if __name__ == '__main__':\n",
        "    MAX_SNG.run()"
      ]
    },
    {
      "cell_type": "markdown",
      "id": "e1077ca5",
      "metadata": {
        "id": "e1077ca5"
      },
      "source": [
        "### Task 8 Output"
      ]
    },
    {
      "cell_type": "code",
      "execution_count": null,
      "id": "9c55b08d",
      "metadata": {
        "colab": {
          "base_uri": "https://localhost:8080/"
        },
        "id": "9c55b08d",
        "outputId": "c24a32ff-946a-419e-ba7d-72af7a1bb1a0"
      },
      "outputs": [
        {
          "output_type": "stream",
          "name": "stdout",
          "text": [
            "No configs found; falling back on auto-configuration\n",
            "No configs specified for inline runner\n",
            "Creating temp directory /tmp/question8.root.20230401.105717.008147\n",
            "Running step 1 of 1...\n",
            "job output is in /tmp/question8.root.20230401.105717.008147/output\n",
            "Streaming final output from /tmp/question8.root.20230401.105717.008147/output...\n",
            "\"Date\"\t\"Username\"\n",
            "\"20-4-22\"\t\"Sara\"\n",
            "\"12-3-20\"\t\"Ali\"\n",
            "\"14-04-22\"\t\"Fahad\"\n",
            "Removing temp directory /tmp/question8.root.20230401.105717.008147...\n"
          ]
        }
      ],
      "source": [
        "! python question8.py data.txt"
      ]
    }
  ],
  "metadata": {
    "kernelspec": {
      "display_name": "Python 3 (ipykernel)",
      "language": "python",
      "name": "python3"
    },
    "language_info": {
      "codemirror_mode": {
        "name": "ipython",
        "version": 3
      },
      "file_extension": ".py",
      "mimetype": "text/x-python",
      "name": "python",
      "nbconvert_exporter": "python",
      "pygments_lexer": "ipython3",
      "version": "3.9.13"
    },
    "vscode": {
      "interpreter": {
        "hash": "ad2bdc8ecc057115af97d19610ffacc2b4e99fae6737bb82f5d7fb13d2f2c186"
      }
    },
    "colab": {
      "provenance": [],
      "include_colab_link": true
    }
  },
  "nbformat": 4,
  "nbformat_minor": 5
}