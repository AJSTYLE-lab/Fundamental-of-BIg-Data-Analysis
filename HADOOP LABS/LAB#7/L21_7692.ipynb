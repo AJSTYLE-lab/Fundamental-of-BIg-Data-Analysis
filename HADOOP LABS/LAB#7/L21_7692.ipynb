{
  "nbformat": 4,
  "nbformat_minor": 0,
  "metadata": {
    "colab": {
      "provenance": [],
      "include_colab_link": true
    },
    "kernelspec": {
      "name": "python3",
      "display_name": "Python 3"
    },
    "language_info": {
      "name": "python"
    }
  },
  "cells": [
    {
      "cell_type": "markdown",
      "metadata": {
        "id": "view-in-github",
        "colab_type": "text"
      },
      "source": [
        "<a href=\"https://colab.research.google.com/github/AJSTYLE-lab/Fundamental-of-BIg-Data-Analysis/blob/main/HADOOP%20LABS/LAB%237/L21_7692.ipynb\" target=\"_parent\"><img src=\"https://colab.research.google.com/assets/colab-badge.svg\" alt=\"Open In Colab\"/></a>"
      ]
    },
    {
      "cell_type": "markdown",
      "source": [
        "#INSTALLING mrjob!:"
      ],
      "metadata": {
        "id": "PxZdlMyEpzXq"
      }
    },
    {
      "cell_type": "code",
      "source": [
        "!pip install mrjob"
      ],
      "metadata": {
        "colab": {
          "base_uri": "https://localhost:8080/"
        },
        "id": "eDJOgpM1p3HQ",
        "outputId": "b44175a1-b653-4cb6-c98e-cf23f28172bb"
      },
      "execution_count": null,
      "outputs": [
        {
          "output_type": "stream",
          "name": "stdout",
          "text": [
            "Looking in indexes: https://pypi.org/simple, https://us-python.pkg.dev/colab-wheels/public/simple/\n",
            "Requirement already satisfied: mrjob in /usr/local/lib/python3.9/dist-packages (0.7.4)\n",
            "Requirement already satisfied: PyYAML>=3.10 in /usr/local/lib/python3.9/dist-packages (from mrjob) (6.0)\n"
          ]
        }
      ]
    },
    {
      "cell_type": "markdown",
      "source": [
        "#Mapreduce FOR chars,words,world_length of 5:"
      ],
      "metadata": {
        "id": "-LGahU9zp57J"
      }
    },
    {
      "cell_type": "code",
      "source": [
        "%%writefile mr_word_count.py\n",
        "from mrjob.job import MRJob\n",
        "\n",
        "class MRWordFrequencyCount(MRJob):\n",
        "    def mapper(self, _, line):\n",
        "        yield \"chars\", len(line)\n",
        "        yield \"words\", len(line.split())\n",
        "        five_length=len(line.split())\n",
        "        if int(five_length)==5:\n",
        "            yield \"words of length 5=\",five_length\n",
        "            \n",
        "        yield \"lines\", 1\n",
        "\n",
        "    def reducer(self, key, values):\n",
        "        yield key, sum(values)\n",
        "if __name__ == '__main__':\n",
        "    MRWordFrequencyCount.run()"
      ],
      "metadata": {
        "colab": {
          "base_uri": "https://localhost:8080/"
        },
        "id": "QknGPbBsWlA4",
        "outputId": "776bcbd9-d1a8-440a-8b91-5eb5814133f3"
      },
      "execution_count": null,
      "outputs": [
        {
          "output_type": "stream",
          "name": "stdout",
          "text": [
            "Overwriting mr_word_count.py\n"
          ]
        }
      ]
    },
    {
      "cell_type": "markdown",
      "source": [
        "#Execution:"
      ],
      "metadata": {
        "id": "XaMrQZmsqCo_"
      }
    },
    {
      "cell_type": "code",
      "source": [
        "!python mr_word_count.py -r local text_file.txt"
      ],
      "metadata": {
        "colab": {
          "base_uri": "https://localhost:8080/"
        },
        "id": "oiLZ4AmRW0qC",
        "outputId": "4a37c213-5e2d-4176-f7fb-aaba30bc6730"
      },
      "execution_count": null,
      "outputs": [
        {
          "output_type": "stream",
          "name": "stdout",
          "text": [
            "No configs found; falling back on auto-configuration\n",
            "No configs specified for local runner\n",
            "Creating temp directory /tmp/mr_word_count.root.20230314.055138.024551\n",
            "Running step 1 of 1...\n",
            "job output is in /tmp/mr_word_count.root.20230314.055138.024551/output\n",
            "Streaming final output from /tmp/mr_word_count.root.20230314.055138.024551/output...\n",
            "\"chars\"\t2191\n",
            "\"words\"\t414\n",
            "\"lines\"\t16\n",
            "\"words of length 5=\"\t35\n",
            "Removing temp directory /tmp/mr_word_count.root.20230314.055138.024551...\n"
          ]
        }
      ]
    },
    {
      "cell_type": "markdown",
      "source": [
        "Mapreduce FOR each word occurence:"
      ],
      "metadata": {
        "id": "eCc4aVfTqJzE"
      }
    },
    {
      "cell_type": "code",
      "source": [
        "%%writefile each_word_occurence.py\n",
        "from mrjob.job import MRJob\n",
        "class WORD_OCCURENCE(MRJob):\n",
        "    def mapper(self,_,line):\n",
        "      for word in line.split():\n",
        "              yield(word, 1)\n",
        "    def reducer(self,word,counts):\n",
        "         yield(word, sum(counts))\n",
        "if __name__ == '__main__':\n",
        "    WORD_OCCURENCE.run()"
      ],
      "metadata": {
        "colab": {
          "base_uri": "https://localhost:8080/"
        },
        "id": "9lmKTBT_kor2",
        "outputId": "d6d8da1a-0ea4-4f07-9243-2135a30e46e1"
      },
      "execution_count": null,
      "outputs": [
        {
          "output_type": "stream",
          "name": "stdout",
          "text": [
            "Overwriting each_word_occurence.py\n"
          ]
        }
      ]
    },
    {
      "cell_type": "code",
      "source": [
        "!python each_word_occurence.py -r local text_file.txt"
      ],
      "metadata": {
        "colab": {
          "base_uri": "https://localhost:8080/"
        },
        "id": "cKI2m0L_qUwk",
        "outputId": "c571572f-3084-4b97-92d2-ce8ce5ab53ca"
      },
      "execution_count": null,
      "outputs": [
        {
          "output_type": "stream",
          "name": "stdout",
          "text": [
            "No configs found; falling back on auto-configuration\n",
            "No configs specified for local runner\n",
            "Creating temp directory /tmp/each_word_occurence.root.20230314.055347.371259\n",
            "Running step 1 of 1...\n",
            "job output is in /tmp/each_word_occurence.root.20230314.055347.371259/output\n",
            "Streaming final output from /tmp/each_word_occurence.root.20230314.055347.371259/output...\n",
            "\"&\"\t1\n",
            "\"1\"\t1\n",
            "\"4\"\t2\n",
            "\"5\"\t1\n",
            "\"Also\"\t1\n",
            "\"Another\"\t1\n",
            "\"Applications\"\t1\n",
            "\"Below\"\t1\n",
            "\"Big\"\t22\n",
            "\"But\"\t2\n",
            "\"Challenges\"\t1\n",
            "\"Characteristics\"\t1\n",
            "\"Course.\"\t2\n",
            "\"Data\"\t16\n",
            "\"Data,\"\t3\n",
            "\"Data.\"\t3\n",
            "\"Data?\"\t1\n",
            "\"Driving\"\t1\n",
            "\"Engineer\"\t1\n",
            "\"Examples\"\t1\n",
            "\"Factors\"\t1\n",
            "\"For\"\t1\n",
            "\"I\"\t6\n",
            "\"In\"\t3\n",
            "\"Now,\"\t1\n",
            "\"Out\"\t1\n",
            "\"So,\"\t1\n",
            "\"Story\"\t2\n",
            "\"The\"\t2\n",
            "\"Through\"\t1\n",
            "\"Tutorial,\"\t2\n",
            "\"Tutorial:\"\t1\n",
            "\"Types\"\t1\n",
            "\"What\"\t2\n",
            "\"When\"\t1\n",
            "\"You\"\t1\n",
            "\"\\u2022\"\t8\n",
            "\"a\"\t7\n",
            "\"about\"\t1\n",
            "\"along\"\t1\n",
            "\"also\"\t2\n",
            "\"increased.\"\t1\n",
            "\"insight\"\t1\n",
            "\"instead\"\t1\n",
            "\"into\"\t3\n",
            "\"is\"\t9\n",
            "\"it\"\t5\n",
            "\"know\"\t1\n",
            "\"large\"\t1\n",
            "\"last\"\t1\n",
            "\"less\"\t1\n",
            "\"let\"\t2\n",
            "\"limited,\"\t1\n",
            "\"lives\"\t1\n",
            "\"look\"\t1\n",
            "\"lot\"\t1\n",
            "\"luggage.\"\t2\n",
            "\"making\"\t1\n",
            "\"more\"\t1\n",
            "\"more,\"\t1\n",
            "\"not\"\t1\n",
            "\"now\"\t1\n",
            "\"of\"\t13\n",
            "\"okay\"\t1\n",
            "\"okay.\"\t1\n",
            "\"on\"\t5\n",
            "\"one\"\t3\n",
            "\"organizations\"\t1\n",
            "\"other\"\t1\n",
            "\"our\"\t2\n",
            "\"out\"\t1\n",
            "\"out.\"\t1\n",
            "\"passed,\"\t1\n",
            "\"people\"\t4\n",
            "\"pretty\"\t1\n",
            "\"problem\"\t1\n",
            "\"problem.\"\t1\n",
            "\"process\"\t1\n",
            "\"process.\"\t1\n",
            "\"professionals\"\t1\n",
            "\"pull\"\t1\n",
            "\"pulling\"\t1\n",
            "\"really\"\t1\n",
            "\"refer\"\t1\n",
            "\"relying\"\t1\n",
            "\"said,\"\t1\n",
            "\"same\"\t2\n",
            "\"says,\"\t1\n",
            "\"server.\"\t1\n",
            "\"servers\"\t1\n",
            "\"should\"\t1\n",
            "\"skills?\"\t1\n",
            "\"smart\"\t2\n",
            "\"so.\"\t1\n",
            "\"solution,\"\t1\n",
            "\"solution.\"\t1\n",
            "\"solution?\"\t1\n",
            "\"solve\"\t1\n",
            "\"sources\"\t1\n",
            "\"speed\"\t1\n",
            "\"spread\"\t1\n",
            "\"store\"\t2\n",
            "\"storing\"\t1\n",
            "\"am\"\t1\n",
            "\"amount\"\t1\n",
            "\"an\"\t2\n",
            "\"ancient\"\t1\n",
            "\"and\"\t6\n",
            "\"another\"\t1\n",
            "\"any\"\t1\n",
            "\"applies\"\t1\n",
            "\"are\"\t4\n",
            "\"as\"\t1\n",
            "\"at\"\t2\n",
            "\"bad,\"\t1\n",
            "\"became\"\t2\n",
            "\"because\"\t1\n",
            "\"become\"\t1\n",
            "\"becoming\"\t1\n",
            "\"before?\"\t1\n",
            "\"between\"\t1\n",
            "\"blog\"\t1\n",
            "\"blue,\"\t1\n",
            "\"but\"\t2\n",
            "\"can\"\t3\n",
            "\"carry\"\t1\n",
            "\"cart,\"\t2\n",
            "\"cart.\"\t1\n",
            "\"check\"\t1\n",
            "\"complete\"\t1\n",
            "\"concept\"\t1\n",
            "\"cover\"\t1\n",
            "\"current\"\t1\n",
            "\"data\"\t7\n",
            "\"days,\"\t1\n",
            "\"details\"\t1\n",
            "\"details,\"\t1\n",
            "\"distance\"\t1\n",
            "\"distances\"\t1\n",
            "\"do\"\t3\n",
            "\"don\\u2019t\"\t1\n",
            "\"driven\"\t1\n",
            "\"elephant?\"\t1\n",
            "\"even\"\t2\n",
            "\"everyone\"\t1\n",
            "\"exactly\"\t1\n",
            "\"explore\"\t1\n",
            "\"failing\"\t1\n",
            "\"fantastic\"\t1\n",
            "\"fast\"\t1\n",
            "\"feed\"\t1\n",
            "\"fella\"\t1\n",
            "\"for\"\t1\n",
            "\"from\"\t2\n",
            "\"further\"\t1\n",
            "\"give\"\t1\n",
            "\"groom\"\t1\n",
            "\"growing\"\t1\n",
            "\"growing,\"\t1\n",
            "\"guy\"\t1\n",
            "\"guys\"\t1\n",
            "\"have\"\t1\n",
            "\"have.\"\t1\n",
            "\"haven\\u2019t\"\t1\n",
            "\"heard\"\t1\n",
            "\"horse\"\t4\n",
            "\"horses\"\t1\n",
            "\"how\"\t1\n",
            "\"hunting\"\t1\n",
            "\"impact\"\t1\n",
            "\"impossible\"\t1\n",
            "\"in\"\t3\n",
            "\"suggested,\"\t1\n",
            "\"sure\"\t1\n",
            "\"systems\"\t1\n",
            "\"talking\"\t1\n",
            "\"technological\"\t1\n",
            "\"term\"\t1\n",
            "\"that\"\t1\n",
            "\"the\"\t22\n",
            "\"think\"\t4\n",
            "\"this\"\t9\n",
            "\"till\"\t1\n",
            "\"time\"\t3\n",
            "\"times.\"\t1\n",
            "\"to\"\t12\n",
            "\"today,\"\t1\n",
            "\"too\"\t1\n",
            "\"topics\"\t1\n",
            "\"town\"\t2\n",
            "\"towns\"\t1\n",
            "\"towns,\"\t1\n",
            "\"traditional\"\t1\n",
            "\"travel\"\t4\n",
            "\"us\"\t2\n",
            "\"used\"\t1\n",
            "\"village\"\t2\n",
            "\"villages\"\t1\n",
            "\"volume\"\t1\n",
            "\"was\"\t2\n",
            "\"we\"\t2\n",
            "\"were\"\t1\n",
            "\"what\"\t1\n",
            "\"which\"\t3\n",
            "\"why\"\t1\n",
            "\"will\"\t2\n",
            "\"with\"\t5\n",
            "\"world,\"\t1\n",
            "\"years,\"\t1\n",
            "\"you\"\t6\n",
            "Removing temp directory /tmp/each_word_occurence.root.20230314.055347.371259...\n"
          ]
        }
      ]
    },
    {
      "cell_type": "code",
      "source": [],
      "metadata": {
        "id": "rLo3LNmPrBG0"
      },
      "execution_count": null,
      "outputs": []
    }
  ]
}