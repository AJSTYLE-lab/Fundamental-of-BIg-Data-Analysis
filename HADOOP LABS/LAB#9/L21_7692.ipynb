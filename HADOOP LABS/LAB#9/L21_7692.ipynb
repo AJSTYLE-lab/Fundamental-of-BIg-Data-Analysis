{
  "nbformat": 4,
  "nbformat_minor": 0,
  "metadata": {
    "colab": {
      "provenance": [],
      "include_colab_link": true
    },
    "kernelspec": {
      "name": "python3",
      "display_name": "Python 3"
    },
    "language_info": {
      "name": "python"
    }
  },
  "cells": [
    {
      "cell_type": "markdown",
      "metadata": {
        "id": "view-in-github",
        "colab_type": "text"
      },
      "source": [
        "<a href=\"https://colab.research.google.com/github/AJSTYLE-lab/Fundamental-of-BIg-Data-Analysis/blob/main/HADOOP%20LABS/LAB%239/L21_7692.ipynb\" target=\"_parent\"><img src=\"https://colab.research.google.com/assets/colab-badge.svg\" alt=\"Open In Colab\"/></a>"
      ]
    },
    {
      "cell_type": "code",
      "execution_count": null,
      "metadata": {
        "colab": {
          "base_uri": "https://localhost:8080/"
        },
        "id": "yGlDToWb5dA6",
        "outputId": "d11d4cae-1d6c-435e-eca3-2eaf5b2c1f82"
      },
      "outputs": [
        {
          "output_type": "stream",
          "name": "stdout",
          "text": [
            "Looking in indexes: https://pypi.org/simple, https://us-python.pkg.dev/colab-wheels/public/simple/\n",
            "Collecting mrjob\n",
            "  Downloading mrjob-0.7.4-py2.py3-none-any.whl (439 kB)\n",
            "\u001b[2K     \u001b[90m━━━━━━━━━━━━━━━━━━━━━━━━━━━━━━━━━━━━━━\u001b[0m \u001b[32m439.6/439.6 kB\u001b[0m \u001b[31m23.8 MB/s\u001b[0m eta \u001b[36m0:00:00\u001b[0m\n",
            "\u001b[?25hRequirement already satisfied: PyYAML>=3.10 in /usr/local/lib/python3.9/dist-packages (from mrjob) (6.0)\n",
            "Installing collected packages: mrjob\n",
            "Successfully installed mrjob-0.7.4\n"
          ]
        }
      ],
      "source": [
        "!pip install mrjob"
      ]
    },
    {
      "cell_type": "code",
      "source": [
        "%%writefile QUESTION_NO_ONE.py\n",
        "from mrjob.job import MRJob\n",
        "class timesStudentAccess(MRJob):\n",
        "  def mapper(self, _, lines):\n",
        "    roll_number,course,smes,login,logout,*accessed=lines.split(\" \")\n",
        "    yield(roll_number,course,smes),1\n",
        "  def combiner(self, key, values):\n",
        "        yield(key, sum(values))\n",
        "  def reducer(self, key, values):\n",
        "        yield(key, sum(values))\n",
        "if __name__ == '__main__':\n",
        "    timesStudentAccess.run()\n"
      ],
      "metadata": {
        "colab": {
          "base_uri": "https://localhost:8080/"
        },
        "id": "xq3CamCQ5fcz",
        "outputId": "f09061d4-aa82-42b0-b5e7-a283fcbdf471"
      },
      "execution_count": null,
      "outputs": [
        {
          "output_type": "stream",
          "name": "stdout",
          "text": [
            "Overwriting QUESTION_NO_ONE.py\n"
          ]
        }
      ]
    },
    {
      "cell_type": "code",
      "source": [
        "!python QUESTION_NO_ONE.py DATA.txt"
      ],
      "metadata": {
        "colab": {
          "base_uri": "https://localhost:8080/"
        },
        "id": "8YX-rP6c6Wor",
        "outputId": "ad368511-6160-4225-9164-d05d0d8fd76f"
      },
      "execution_count": null,
      "outputs": [
        {
          "output_type": "stream",
          "name": "stdout",
          "text": [
            "No configs found; falling back on auto-configuration\n",
            "No configs specified for inline runner\n",
            "Creating temp directory /tmp/QUESTION_NO_ONE.root.20230416.095603.045374\n",
            "Running step 1 of 1...\n",
            "job output is in /tmp/QUESTION_NO_ONE.root.20230416.095603.045374/output\n",
            "Streaming final output from /tmp/QUESTION_NO_ONE.root.20230416.095603.045374/output...\n",
            "[\"L20-4305\", \"Course:BigData\", \"Sem:Spring2020\"]\t2\n",
            "[\"L20-4305\", \"Course:DataMining\", \"Sem:Spring2020\"]\t1\n",
            "[\"L20-1111\", \"Course:DataMining\", \"Sem:Spring2020\"]\t2\n",
            "Removing temp directory /tmp/QUESTION_NO_ONE.root.20230416.095603.045374...\n"
          ]
        }
      ]
    },
    {
      "cell_type": "code",
      "source": [
        "%%writefile QUESTION_NO_TWO.py\n",
        "from mrjob.job import MRJob\n",
        "class QUESTION_NO_TWO(MRJob):\n",
        "  def mapper(self, _, line):\n",
        "        roll_number,course,smes,login,logout,*accessed=line.split(\" \")\n",
        "        yield (roll_number,course),1\n",
        "  def combiner(self, course, roll_number):\n",
        "        UNIQUE = set(roll_number)\n",
        "        yield (course, len(UNIQUE))      \n",
        "  def reducer(self, course, roll_number):\n",
        "        UNIQUE = set(roll_number)\n",
        "        yield (course, len(UNIQUE))\n",
        "if __name__ == '__main__':\n",
        "    QUESTION_NO_TWO.run()"
      ],
      "metadata": {
        "colab": {
          "base_uri": "https://localhost:8080/"
        },
        "id": "Q9EBS7q_AV8B",
        "outputId": "5f06f6fe-62ac-4cf9-a6b0-de0250722512"
      },
      "execution_count": null,
      "outputs": [
        {
          "output_type": "stream",
          "name": "stdout",
          "text": [
            "Overwriting QUESTION_NO_TWO.py\n"
          ]
        }
      ]
    },
    {
      "cell_type": "code",
      "source": [
        "!python QUESTION_NO_TWO.py DATA.txt"
      ],
      "metadata": {
        "colab": {
          "base_uri": "https://localhost:8080/"
        },
        "id": "dmSkvsr0F3mS",
        "outputId": "aa003c76-098e-41ac-c100-406b37fec00b"
      },
      "execution_count": null,
      "outputs": [
        {
          "output_type": "stream",
          "name": "stdout",
          "text": [
            "No configs found; falling back on auto-configuration\n",
            "No configs specified for inline runner\n",
            "Creating temp directory /tmp/QUESTION_NO_TWO.root.20230416.095800.839055\n",
            "Running step 1 of 1...\n",
            "job output is in /tmp/QUESTION_NO_TWO.root.20230416.095800.839055/output\n",
            "Streaming final output from /tmp/QUESTION_NO_TWO.root.20230416.095800.839055/output...\n",
            "[\"L20-4305\", \"Course:BigData\"]\t1\n",
            "[\"L20-4305\", \"Course:DataMining\"]\t1\n",
            "[\"L20-1111\", \"Course:DataMining\"]\t1\n",
            "Removing temp directory /tmp/QUESTION_NO_TWO.root.20230416.095800.839055...\n"
          ]
        }
      ]
    },
    {
      "cell_type": "code",
      "source": [
        "%%writefile QUESTION_NO_THREE.py\n",
        "from datetime import datetime\n",
        "from mrjob.job import MRJob\n",
        "class QUESTION_NO_THREE(MRJob):\n",
        "    def mapper(self, _, line):\n",
        "        roll, course, sem, login, logout, *accessed = line.split(\" \")\n",
        "        *log_1, T_1 = login.split('-')\n",
        "        *log_2, T_2 = logout.split('-')\n",
        "        T_1_datetime = datetime.strptime(T_1, '%H:%M')\n",
        "        T_2_datetime = datetime.strptime(T_2, '%H:%M')\n",
        "        TIME= (T_2_datetime - T_1_datetime).total_seconds() / 60.0\n",
        "        yield (roll, course),TIME\n",
        "    def reducer(self, key, values):\n",
        "       time_list = []\n",
        "       total_time = 0.0\n",
        "       for value in values:\n",
        "           if isinstance(value, tuple) and len(value) == 2:\n",
        "              course, time = value\n",
        "              total_time += time\n",
        "              time_list.append((course, time))\n",
        "       for course, time in time_list:\n",
        "              percentage = (time / total_time) * 100\n",
        "              yield key, (course, percentage)\n",
        "if __name__ == '__main__':\n",
        "    QUESTION_NO_THREE.run()"
      ],
      "metadata": {
        "id": "ktQzGIQKF6dM",
        "colab": {
          "base_uri": "https://localhost:8080/"
        },
        "outputId": "d5449f5a-612d-4e65-a8fc-290ba80a2eee"
      },
      "execution_count": null,
      "outputs": [
        {
          "output_type": "stream",
          "name": "stdout",
          "text": [
            "Overwriting QUESTION_NO_THREE.py\n"
          ]
        }
      ]
    },
    {
      "cell_type": "code",
      "source": [
        "!python QUESTION_NO_THREE.py DATA.txt"
      ],
      "metadata": {
        "colab": {
          "base_uri": "https://localhost:8080/"
        },
        "id": "-3HJn32FMxYe",
        "outputId": "7636502b-b1d5-4bac-a7ba-5c174926d864"
      },
      "execution_count": null,
      "outputs": [
        {
          "output_type": "stream",
          "name": "stdout",
          "text": [
            "No configs found; falling back on auto-configuration\n",
            "No configs specified for inline runner\n",
            "Creating temp directory /tmp/QUESTION_NO_THREE.root.20230416.101638.729031\n",
            "Running step 1 of 1...\n",
            "job output is in /tmp/QUESTION_NO_THREE.root.20230416.101638.729031/output\n",
            "Streaming final output from /tmp/QUESTION_NO_THREE.root.20230416.101638.729031/output...\n",
            "Removing temp directory /tmp/QUESTION_NO_THREE.root.20230416.101638.729031...\n"
          ]
        }
      ]
    },
    {
      "cell_type": "code",
      "source": [],
      "metadata": {
        "id": "ubY_ct5BM0FV"
      },
      "execution_count": null,
      "outputs": []
    }
  ]
}